{
 "cells": [
  {
   "cell_type": "code",
   "execution_count": 1,
   "id": "631a0f6c",
   "metadata": {
    "_cell_guid": "b1076dfc-b9ad-4769-8c92-a6c4dae69d19",
    "_uuid": "8f2839f25d086af736a60e9eeb907d3b93b6e0e5",
    "execution": {
     "iopub.execute_input": "2023-01-25T13:39:33.041380Z",
     "iopub.status.busy": "2023-01-25T13:39:33.040796Z",
     "iopub.status.idle": "2023-01-25T13:39:33.051818Z",
     "shell.execute_reply": "2023-01-25T13:39:33.051007Z"
    },
    "papermill": {
     "duration": 0.023178,
     "end_time": "2023-01-25T13:39:33.053855",
     "exception": false,
     "start_time": "2023-01-25T13:39:33.030677",
     "status": "completed"
    },
    "tags": []
   },
   "outputs": [],
   "source": [
    "# This Python 3 environment comes with many helpful analytics libraries installed\n",
    "# It is defined by the kaggle/python Docker image: https://github.com/kaggle/docker-python\n",
    "# For example, here's several helpful packages to load\n",
    "\n",
    "import numpy as np # linear algebra\n",
    "import pandas as pd # data processing, CSV file I/O (e.g. pd.read_csv)\n",
    "\n",
    "# Input data files are available in the read-only \"../input/\" directory\n",
    "# For example, running this (by clicking run or pressing Shift+Enter) will list all files under the input directory\n",
    "\n"
   ]
  },
  {
   "cell_type": "code",
   "execution_count": 2,
   "id": "cdc3fb73",
   "metadata": {
    "execution": {
     "iopub.execute_input": "2023-01-25T13:39:33.069458Z",
     "iopub.status.busy": "2023-01-25T13:39:33.069196Z",
     "iopub.status.idle": "2023-01-25T13:39:36.314369Z",
     "shell.execute_reply": "2023-01-25T13:39:36.313405Z"
    },
    "papermill": {
     "duration": 3.255734,
     "end_time": "2023-01-25T13:39:36.317046",
     "exception": false,
     "start_time": "2023-01-25T13:39:33.061312",
     "status": "completed"
    },
    "tags": []
   },
   "outputs": [],
   "source": [
    "from fastai.vision.all import *\n",
    "from pathlib import Path\n",
    "\n",
    "\n",
    "import os\n",
    "kaggle = os.environ.get('KAGGLE_KERNEL_RUN_TYPE', '')"
   ]
  },
  {
   "cell_type": "code",
   "execution_count": 3,
   "id": "7a990f72",
   "metadata": {
    "execution": {
     "iopub.execute_input": "2023-01-25T13:39:36.332467Z",
     "iopub.status.busy": "2023-01-25T13:39:36.332034Z",
     "iopub.status.idle": "2023-01-25T13:39:36.336566Z",
     "shell.execute_reply": "2023-01-25T13:39:36.335561Z"
    },
    "papermill": {
     "duration": 0.014775,
     "end_time": "2023-01-25T13:39:36.338894",
     "exception": false,
     "start_time": "2023-01-25T13:39:36.324119",
     "status": "completed"
    },
    "tags": []
   },
   "outputs": [],
   "source": [
    "DATA = Path('/kaggle/input/')\n",
    "path = DATA/'lyft-udacity-challenge'/'dataB'/'dataB'\n"
   ]
  },
  {
   "cell_type": "markdown",
   "id": "95c75850",
   "metadata": {
    "papermill": {
     "duration": 0.006537,
     "end_time": "2023-01-25T13:39:36.352364",
     "exception": false,
     "start_time": "2023-01-25T13:39:36.345827",
     "status": "completed"
    },
    "tags": []
   },
   "source": [
    "dls = SegmentationDataLoaders.from_label_func(\n",
    "    path, bs=8, fnames = get_image_files(path/'CameraRGB'),\n",
    "    label_func = lambda o: path/'CameraRGB'/f'{o.stem}_P{o.suffix}',\n",
    "    codes = np.loadtxt(path/'codes.txt', dtype=str)\n",
    ")\n",
    "\n"
   ]
  },
  {
   "cell_type": "code",
   "execution_count": 4,
   "id": "4bc13eab",
   "metadata": {
    "execution": {
     "iopub.execute_input": "2023-01-25T13:39:36.368551Z",
     "iopub.status.busy": "2023-01-25T13:39:36.368246Z",
     "iopub.status.idle": "2023-01-25T13:39:39.646388Z",
     "shell.execute_reply": "2023-01-25T13:39:39.645331Z"
    },
    "papermill": {
     "duration": 3.289637,
     "end_time": "2023-01-25T13:39:39.648758",
     "exception": false,
     "start_time": "2023-01-25T13:39:36.359121",
     "status": "completed"
    },
    "tags": []
   },
   "outputs": [],
   "source": [
    "\n",
    "dls = SegmentationDataLoaders.from_label_func(\n",
    "    path, bs=4, fnames = get_image_files(path/\"CameraRGB\"),\n",
    "    label_func = lambda o: path/'CameraSeg'/f'{o.stem}{o.suffix}',\n",
    "    codes=None\n",
    ")\n",
    "\n"
   ]
  },
  {
   "cell_type": "code",
   "execution_count": 5,
   "id": "df734330",
   "metadata": {
    "execution": {
     "iopub.execute_input": "2023-01-25T13:39:39.666128Z",
     "iopub.status.busy": "2023-01-25T13:39:39.665800Z",
     "iopub.status.idle": "2023-01-25T13:57:14.708089Z",
     "shell.execute_reply": "2023-01-25T13:57:14.707021Z"
    },
    "papermill": {
     "duration": 1055.052538,
     "end_time": "2023-01-25T13:57:14.710252",
     "exception": false,
     "start_time": "2023-01-25T13:39:39.657714",
     "status": "completed"
    },
    "tags": []
   },
   "outputs": [
    {
     "name": "stderr",
     "output_type": "stream",
     "text": [
      "Downloading: \"https://download.pytorch.org/models/resnet34-b627a593.pth\" to /root/.cache/torch/hub/checkpoints/resnet34-b627a593.pth\n"
     ]
    },
    {
     "data": {
      "application/vnd.jupyter.widget-view+json": {
       "model_id": "f3773862fcef40bd830be3690d24c9cb",
       "version_major": 2,
       "version_minor": 0
      },
      "text/plain": [
       "  0%|          | 0.00/83.3M [00:00<?, ?B/s]"
      ]
     },
     "metadata": {},
     "output_type": "display_data"
    },
    {
     "data": {
      "text/html": [
       "\n",
       "<style>\n",
       "    /* Turns off some styling */\n",
       "    progress {\n",
       "        /* gets rid of default border in Firefox and Opera. */\n",
       "        border: none;\n",
       "        /* Needs to be in here for Safari polyfill so background images work as expected. */\n",
       "        background-size: auto;\n",
       "    }\n",
       "    progress:not([value]), progress:not([value])::-webkit-progress-bar {\n",
       "        background: repeating-linear-gradient(45deg, #7e7e7e, #7e7e7e 10px, #5c5c5c 10px, #5c5c5c 20px);\n",
       "    }\n",
       "    .progress-bar-interrupted, .progress-bar-interrupted::-webkit-progress-bar {\n",
       "        background: #F44336;\n",
       "    }\n",
       "</style>\n"
      ],
      "text/plain": [
       "<IPython.core.display.HTML object>"
      ]
     },
     "metadata": {},
     "output_type": "display_data"
    },
    {
     "data": {
      "text/html": [
       "<table border=\"1\" class=\"dataframe\">\n",
       "  <thead>\n",
       "    <tr style=\"text-align: left;\">\n",
       "      <th>epoch</th>\n",
       "      <th>train_loss</th>\n",
       "      <th>valid_loss</th>\n",
       "      <th>time</th>\n",
       "    </tr>\n",
       "  </thead>\n",
       "  <tbody>\n",
       "    <tr>\n",
       "      <td>0</td>\n",
       "      <td>0.922528</td>\n",
       "      <td>0.847327</td>\n",
       "      <td>02:52</td>\n",
       "    </tr>\n",
       "  </tbody>\n",
       "</table>"
      ],
      "text/plain": [
       "<IPython.core.display.HTML object>"
      ]
     },
     "metadata": {},
     "output_type": "display_data"
    },
    {
     "data": {
      "text/html": [
       "\n",
       "<style>\n",
       "    /* Turns off some styling */\n",
       "    progress {\n",
       "        /* gets rid of default border in Firefox and Opera. */\n",
       "        border: none;\n",
       "        /* Needs to be in here for Safari polyfill so background images work as expected. */\n",
       "        background-size: auto;\n",
       "    }\n",
       "    progress:not([value]), progress:not([value])::-webkit-progress-bar {\n",
       "        background: repeating-linear-gradient(45deg, #7e7e7e, #7e7e7e 10px, #5c5c5c 10px, #5c5c5c 20px);\n",
       "    }\n",
       "    .progress-bar-interrupted, .progress-bar-interrupted::-webkit-progress-bar {\n",
       "        background: #F44336;\n",
       "    }\n",
       "</style>\n"
      ],
      "text/plain": [
       "<IPython.core.display.HTML object>"
      ]
     },
     "metadata": {},
     "output_type": "display_data"
    },
    {
     "data": {
      "text/html": [
       "<table border=\"1\" class=\"dataframe\">\n",
       "  <thead>\n",
       "    <tr style=\"text-align: left;\">\n",
       "      <th>epoch</th>\n",
       "      <th>train_loss</th>\n",
       "      <th>valid_loss</th>\n",
       "      <th>time</th>\n",
       "    </tr>\n",
       "  </thead>\n",
       "  <tbody>\n",
       "    <tr>\n",
       "      <td>0</td>\n",
       "      <td>0.198047</td>\n",
       "      <td>0.156021</td>\n",
       "      <td>02:54</td>\n",
       "    </tr>\n",
       "    <tr>\n",
       "      <td>1</td>\n",
       "      <td>0.121609</td>\n",
       "      <td>0.106412</td>\n",
       "      <td>02:54</td>\n",
       "    </tr>\n",
       "    <tr>\n",
       "      <td>2</td>\n",
       "      <td>0.082747</td>\n",
       "      <td>0.078485</td>\n",
       "      <td>02:54</td>\n",
       "    </tr>\n",
       "    <tr>\n",
       "      <td>3</td>\n",
       "      <td>0.063099</td>\n",
       "      <td>0.063756</td>\n",
       "      <td>02:54</td>\n",
       "    </tr>\n",
       "    <tr>\n",
       "      <td>4</td>\n",
       "      <td>0.056758</td>\n",
       "      <td>0.060712</td>\n",
       "      <td>02:54</td>\n",
       "    </tr>\n",
       "  </tbody>\n",
       "</table>"
      ],
      "text/plain": [
       "<IPython.core.display.HTML object>"
      ]
     },
     "metadata": {},
     "output_type": "display_data"
    }
   ],
   "source": [
    "learn = unet_learner(dls, resnet34, n_out = 12)\n",
    "learn.fine_tune(5)\n",
    "     "
   ]
  },
  {
   "cell_type": "code",
   "execution_count": 6,
   "id": "27de1a7f",
   "metadata": {
    "execution": {
     "iopub.execute_input": "2023-01-25T13:57:14.727760Z",
     "iopub.status.busy": "2023-01-25T13:57:14.726740Z",
     "iopub.status.idle": "2023-01-25T13:57:16.852851Z",
     "shell.execute_reply": "2023-01-25T13:57:16.851905Z"
    },
    "papermill": {
     "duration": 2.138612,
     "end_time": "2023-01-25T13:57:16.856605",
     "exception": false,
     "start_time": "2023-01-25T13:57:14.717993",
     "status": "completed"
    },
    "tags": []
   },
   "outputs": [
    {
     "data": {
      "text/html": [
       "\n",
       "<style>\n",
       "    /* Turns off some styling */\n",
       "    progress {\n",
       "        /* gets rid of default border in Firefox and Opera. */\n",
       "        border: none;\n",
       "        /* Needs to be in here for Safari polyfill so background images work as expected. */\n",
       "        background-size: auto;\n",
       "    }\n",
       "    progress:not([value]), progress:not([value])::-webkit-progress-bar {\n",
       "        background: repeating-linear-gradient(45deg, #7e7e7e, #7e7e7e 10px, #5c5c5c 10px, #5c5c5c 20px);\n",
       "    }\n",
       "    .progress-bar-interrupted, .progress-bar-interrupted::-webkit-progress-bar {\n",
       "        background: #F44336;\n",
       "    }\n",
       "</style>\n"
      ],
      "text/plain": [
       "<IPython.core.display.HTML object>"
      ]
     },
     "metadata": {},
     "output_type": "display_data"
    },
    {
     "data": {
      "text/html": [],
      "text/plain": [
       "<IPython.core.display.HTML object>"
      ]
     },
     "metadata": {},
     "output_type": "display_data"
    },
    {
     "data": {
      "image/png": "[encoded data removed]",
      "text/plain": [
       "<Figure size 720x720 with 8 Axes>"
      ]
     },
     "metadata": {
      "needs_background": "light"
     },
     "output_type": "display_data"
    }
   ],
   "source": [
    "learn.show_results(max_n=6, figsize=(10,10))"
   ]
  },
  {
   "cell_type": "code",
   "execution_count": 7,
   "id": "fb37c963",
   "metadata": {
    "execution": {
     "iopub.execute_input": "2023-01-25T13:57:16.876676Z",
     "iopub.status.busy": "2023-01-25T13:57:16.876355Z",
     "iopub.status.idle": "2023-01-25T13:57:16.880622Z",
     "shell.execute_reply": "2023-01-25T13:57:16.879629Z"
    },
    "papermill": {
     "duration": 0.016748,
     "end_time": "2023-01-25T13:57:16.882597",
     "exception": false,
     "start_time": "2023-01-25T13:57:16.865849",
     "status": "completed"
    },
    "tags": []
   },
   "outputs": [],
   "source": [
    "#learn.path = Path('/kaggle/working/')"
   ]
  },
  {
   "cell_type": "code",
   "execution_count": 8,
   "id": "55f1d347",
   "metadata": {
    "execution": {
     "iopub.execute_input": "2023-01-25T13:57:16.902802Z",
     "iopub.status.busy": "2023-01-25T13:57:16.902038Z",
     "iopub.status.idle": "2023-01-25T13:57:16.906500Z",
     "shell.execute_reply": "2023-01-25T13:57:16.905539Z"
    },
    "papermill": {
     "duration": 0.016851,
     "end_time": "2023-01-25T13:57:16.908501",
     "exception": false,
     "start_time": "2023-01-25T13:57:16.891650",
     "status": "completed"
    },
    "tags": []
   },
   "outputs": [],
   "source": [
    "#learn.export('dashboard_segment.pkl')"
   ]
  },
  {
   "cell_type": "code",
   "execution_count": 9,
   "id": "3fbc5bfd",
   "metadata": {
    "execution": {
     "iopub.execute_input": "2023-01-25T13:57:16.928433Z",
     "iopub.status.busy": "2023-01-25T13:57:16.927885Z",
     "iopub.status.idle": "2023-01-25T13:57:16.932054Z",
     "shell.execute_reply": "2023-01-25T13:57:16.931034Z"
    },
    "papermill": {
     "duration": 0.016615,
     "end_time": "2023-01-25T13:57:16.934376",
     "exception": false,
     "start_time": "2023-01-25T13:57:16.917761",
     "status": "completed"
    },
    "tags": []
   },
   "outputs": [],
   "source": [
    "#test_img=(DATA/'lyft-udacity-challenge'/'dataC'/'dataC'/'CameraRGB').ls()[0]"
   ]
  },
  {
   "cell_type": "code",
   "execution_count": 10,
   "id": "a07ac22d",
   "metadata": {
    "execution": {
     "iopub.execute_input": "2023-01-25T13:57:16.954262Z",
     "iopub.status.busy": "2023-01-25T13:57:16.953921Z",
     "iopub.status.idle": "2023-01-25T13:57:16.958067Z",
     "shell.execute_reply": "2023-01-25T13:57:16.957132Z"
    },
    "papermill": {
     "duration": 0.016626,
     "end_time": "2023-01-25T13:57:16.960078",
     "exception": false,
     "start_time": "2023-01-25T13:57:16.943452",
     "status": "completed"
    },
    "tags": []
   },
   "outputs": [],
   "source": [
    "#test_pred = learn.predict(test_img)\n"
   ]
  },
  {
   "cell_type": "code",
   "execution_count": 11,
   "id": "0586bcff",
   "metadata": {
    "execution": {
     "iopub.execute_input": "2023-01-25T13:57:16.979883Z",
     "iopub.status.busy": "2023-01-25T13:57:16.979583Z",
     "iopub.status.idle": "2023-01-25T13:57:16.983798Z",
     "shell.execute_reply": "2023-01-25T13:57:16.982765Z"
    },
    "papermill": {
     "duration": 0.016825,
     "end_time": "2023-01-25T13:57:16.986102",
     "exception": false,
     "start_time": "2023-01-25T13:57:16.969277",
     "status": "completed"
    },
    "tags": []
   },
   "outputs": [],
   "source": [
    "#test_pred"
   ]
  },
  {
   "cell_type": "code",
   "execution_count": 12,
   "id": "095b2b5a",
   "metadata": {
    "execution": {
     "iopub.execute_input": "2023-01-25T13:57:17.005610Z",
     "iopub.status.busy": "2023-01-25T13:57:17.005340Z",
     "iopub.status.idle": "2023-01-25T13:57:17.009290Z",
     "shell.execute_reply": "2023-01-25T13:57:17.008374Z"
    },
    "papermill": {
     "duration": 0.015994,
     "end_time": "2023-01-25T13:57:17.011268",
     "exception": false,
     "start_time": "2023-01-25T13:57:16.995274",
     "status": "completed"
    },
    "tags": []
   },
   "outputs": [],
   "source": [
    "#from PIL import Image"
   ]
  },
  {
   "cell_type": "code",
   "execution_count": 13,
   "id": "eb5621db",
   "metadata": {
    "execution": {
     "iopub.execute_input": "2023-01-25T13:57:17.031111Z",
     "iopub.status.busy": "2023-01-25T13:57:17.030468Z",
     "iopub.status.idle": "2023-01-25T13:57:17.034434Z",
     "shell.execute_reply": "2023-01-25T13:57:17.033509Z"
    },
    "papermill": {
     "duration": 0.016017,
     "end_time": "2023-01-25T13:57:17.036398",
     "exception": false,
     "start_time": "2023-01-25T13:57:17.020381",
     "status": "completed"
    },
    "tags": []
   },
   "outputs": [],
   "source": [
    "#pred_mask = test_pred[0]"
   ]
  },
  {
   "cell_type": "code",
   "execution_count": 14,
   "id": "fa230879",
   "metadata": {
    "execution": {
     "iopub.execute_input": "2023-01-25T13:57:17.064862Z",
     "iopub.status.busy": "2023-01-25T13:57:17.063966Z",
     "iopub.status.idle": "2023-01-25T13:57:17.068246Z",
     "shell.execute_reply": "2023-01-25T13:57:17.067416Z"
    },
    "papermill": {
     "duration": 0.024638,
     "end_time": "2023-01-25T13:57:17.070177",
     "exception": false,
     "start_time": "2023-01-25T13:57:17.045539",
     "status": "completed"
    },
    "tags": []
   },
   "outputs": [],
   "source": [
    "#pred_b1 = test_pred[1]\n",
    "#pred_b2 = test_pred[2]"
   ]
  },
  {
   "cell_type": "code",
   "execution_count": 15,
   "id": "8db40f93",
   "metadata": {
    "execution": {
     "iopub.execute_input": "2023-01-25T13:57:17.089936Z",
     "iopub.status.busy": "2023-01-25T13:57:17.089316Z",
     "iopub.status.idle": "2023-01-25T13:57:17.093313Z",
     "shell.execute_reply": "2023-01-25T13:57:17.092398Z"
    },
    "papermill": {
     "duration": 0.015898,
     "end_time": "2023-01-25T13:57:17.095219",
     "exception": false,
     "start_time": "2023-01-25T13:57:17.079321",
     "status": "completed"
    },
    "tags": []
   },
   "outputs": [],
   "source": [
    "#plt.imshow(pred_mask)"
   ]
  },
  {
   "cell_type": "code",
   "execution_count": 16,
   "id": "7e5cd83a",
   "metadata": {
    "execution": {
     "iopub.execute_input": "2023-01-25T13:57:17.114952Z",
     "iopub.status.busy": "2023-01-25T13:57:17.114215Z",
     "iopub.status.idle": "2023-01-25T13:57:17.118495Z",
     "shell.execute_reply": "2023-01-25T13:57:17.117646Z"
    },
    "papermill": {
     "duration": 0.016241,
     "end_time": "2023-01-25T13:57:17.120437",
     "exception": false,
     "start_time": "2023-01-25T13:57:17.104196",
     "status": "completed"
    },
    "tags": []
   },
   "outputs": [],
   "source": [
    "#plt.imshow(pred_b1)"
   ]
  },
  {
   "cell_type": "code",
   "execution_count": 17,
   "id": "42334673",
   "metadata": {
    "execution": {
     "iopub.execute_input": "2023-01-25T13:57:17.140312Z",
     "iopub.status.busy": "2023-01-25T13:57:17.139553Z",
     "iopub.status.idle": "2023-01-25T13:57:17.144062Z",
     "shell.execute_reply": "2023-01-25T13:57:17.143176Z"
    },
    "papermill": {
     "duration": 0.016578,
     "end_time": "2023-01-25T13:57:17.146112",
     "exception": false,
     "start_time": "2023-01-25T13:57:17.129534",
     "status": "completed"
    },
    "tags": []
   },
   "outputs": [],
   "source": [
    "#pred_b2.shape"
   ]
  },
  {
   "cell_type": "code",
   "execution_count": 18,
   "id": "f069a9b5",
   "metadata": {
    "execution": {
     "iopub.execute_input": "2023-01-25T13:57:17.166298Z",
     "iopub.status.busy": "2023-01-25T13:57:17.165434Z",
     "iopub.status.idle": "2023-01-25T13:57:17.169736Z",
     "shell.execute_reply": "2023-01-25T13:57:17.168878Z"
    },
    "papermill": {
     "duration": 0.016461,
     "end_time": "2023-01-25T13:57:17.171709",
     "exception": false,
     "start_time": "2023-01-25T13:57:17.155248",
     "status": "completed"
    },
    "tags": []
   },
   "outputs": [],
   "source": [
    "#pred_arx = pred_b2.argmax(dim=0)"
   ]
  },
  {
   "cell_type": "code",
   "execution_count": 19,
   "id": "a62738f7",
   "metadata": {
    "execution": {
     "iopub.execute_input": "2023-01-25T13:57:17.191251Z",
     "iopub.status.busy": "2023-01-25T13:57:17.190952Z",
     "iopub.status.idle": "2023-01-25T13:57:17.194642Z",
     "shell.execute_reply": "2023-01-25T13:57:17.193750Z"
    },
    "papermill": {
     "duration": 0.015826,
     "end_time": "2023-01-25T13:57:17.196609",
     "exception": false,
     "start_time": "2023-01-25T13:57:17.180783",
     "status": "completed"
    },
    "tags": []
   },
   "outputs": [],
   "source": [
    "#pred_arx = pred_arx.numpy()"
   ]
  },
  {
   "cell_type": "code",
   "execution_count": 20,
   "id": "72b52c5b",
   "metadata": {
    "execution": {
     "iopub.execute_input": "2023-01-25T13:57:17.217080Z",
     "iopub.status.busy": "2023-01-25T13:57:17.215648Z",
     "iopub.status.idle": "2023-01-25T13:57:17.220128Z",
     "shell.execute_reply": "2023-01-25T13:57:17.219264Z"
    },
    "papermill": {
     "duration": 0.016475,
     "end_time": "2023-01-25T13:57:17.222114",
     "exception": false,
     "start_time": "2023-01-25T13:57:17.205639",
     "status": "completed"
    },
    "tags": []
   },
   "outputs": [],
   "source": [
    "#rescaled = (255.0 / pred_arx.max() * (pred_arx - pred_arx.min())).astype(np.uint8)"
   ]
  },
  {
   "cell_type": "code",
   "execution_count": 21,
   "id": "92066a9c",
   "metadata": {
    "execution": {
     "iopub.execute_input": "2023-01-25T13:57:17.242304Z",
     "iopub.status.busy": "2023-01-25T13:57:17.241551Z",
     "iopub.status.idle": "2023-01-25T13:57:17.245803Z",
     "shell.execute_reply": "2023-01-25T13:57:17.245012Z"
    },
    "papermill": {
     "duration": 0.016351,
     "end_time": "2023-01-25T13:57:17.247592",
     "exception": false,
     "start_time": "2023-01-25T13:57:17.231241",
     "status": "completed"
    },
    "tags": []
   },
   "outputs": [],
   "source": [
    "#im = Image.fromarray(rescaled)"
   ]
  },
  {
   "cell_type": "code",
   "execution_count": 22,
   "id": "f6cf9e0f",
   "metadata": {
    "execution": {
     "iopub.execute_input": "2023-01-25T13:57:17.267412Z",
     "iopub.status.busy": "2023-01-25T13:57:17.267023Z",
     "iopub.status.idle": "2023-01-25T13:57:17.270834Z",
     "shell.execute_reply": "2023-01-25T13:57:17.269839Z"
    },
    "papermill": {
     "duration": 0.016108,
     "end_time": "2023-01-25T13:57:17.272844",
     "exception": false,
     "start_time": "2023-01-25T13:57:17.256736",
     "status": "completed"
    },
    "tags": []
   },
   "outputs": [],
   "source": [
    "#im"
   ]
  },
  {
   "cell_type": "code",
   "execution_count": 23,
   "id": "95c5ab4e",
   "metadata": {
    "execution": {
     "iopub.execute_input": "2023-01-25T13:57:17.292167Z",
     "iopub.status.busy": "2023-01-25T13:57:17.291882Z",
     "iopub.status.idle": "2023-01-25T13:57:17.296004Z",
     "shell.execute_reply": "2023-01-25T13:57:17.295007Z"
    },
    "papermill": {
     "duration": 0.016189,
     "end_time": "2023-01-25T13:57:17.298055",
     "exception": false,
     "start_time": "2023-01-25T13:57:17.281866",
     "status": "completed"
    },
    "tags": []
   },
   "outputs": [],
   "source": [
    "#load_image(test_img)"
   ]
  },
  {
   "cell_type": "code",
   "execution_count": 24,
   "id": "69ec7ba4",
   "metadata": {
    "execution": {
     "iopub.execute_input": "2023-01-25T13:57:17.318216Z",
     "iopub.status.busy": "2023-01-25T13:57:17.317479Z",
     "iopub.status.idle": "2023-01-25T13:57:17.321888Z",
     "shell.execute_reply": "2023-01-25T13:57:17.321081Z"
    },
    "papermill": {
     "duration": 0.016326,
     "end_time": "2023-01-25T13:57:17.323675",
     "exception": false,
     "start_time": "2023-01-25T13:57:17.307349",
     "status": "completed"
    },
    "tags": []
   },
   "outputs": [],
   "source": [
    "#im1 = Image.open(test_img).convert('L')"
   ]
  },
  {
   "cell_type": "code",
   "execution_count": 25,
   "id": "fcc22297",
   "metadata": {
    "execution": {
     "iopub.execute_input": "2023-01-25T13:57:17.343897Z",
     "iopub.status.busy": "2023-01-25T13:57:17.342927Z",
     "iopub.status.idle": "2023-01-25T13:57:17.347480Z",
     "shell.execute_reply": "2023-01-25T13:57:17.346636Z"
    },
    "papermill": {
     "duration": 0.016561,
     "end_time": "2023-01-25T13:57:17.349492",
     "exception": false,
     "start_time": "2023-01-25T13:57:17.332931",
     "status": "completed"
    },
    "tags": []
   },
   "outputs": [],
   "source": [
    "#im3 = Image.composite(im1, im1, im.convert('1'))"
   ]
  },
  {
   "cell_type": "code",
   "execution_count": 26,
   "id": "85bd6484",
   "metadata": {
    "execution": {
     "iopub.execute_input": "2023-01-25T13:57:17.369397Z",
     "iopub.status.busy": "2023-01-25T13:57:17.368759Z",
     "iopub.status.idle": "2023-01-25T13:57:17.372543Z",
     "shell.execute_reply": "2023-01-25T13:57:17.371653Z"
    },
    "papermill": {
     "duration": 0.015892,
     "end_time": "2023-01-25T13:57:17.374511",
     "exception": false,
     "start_time": "2023-01-25T13:57:17.358619",
     "status": "completed"
    },
    "tags": []
   },
   "outputs": [],
   "source": [
    "#im3"
   ]
  },
  {
   "cell_type": "code",
   "execution_count": 27,
   "id": "b6bf710b",
   "metadata": {
    "execution": {
     "iopub.execute_input": "2023-01-25T13:57:17.394426Z",
     "iopub.status.busy": "2023-01-25T13:57:17.393681Z",
     "iopub.status.idle": "2023-01-25T13:57:17.398230Z",
     "shell.execute_reply": "2023-01-25T13:57:17.397375Z"
    },
    "papermill": {
     "duration": 0.016667,
     "end_time": "2023-01-25T13:57:17.400188",
     "exception": false,
     "start_time": "2023-01-25T13:57:17.383521",
     "status": "completed"
    },
    "tags": []
   },
   "outputs": [],
   "source": [
    "#mask_im = pred_mask.numpy() "
   ]
  },
  {
   "cell_type": "code",
   "execution_count": 28,
   "id": "5dd00692",
   "metadata": {
    "execution": {
     "iopub.execute_input": "2023-01-25T13:57:17.420348Z",
     "iopub.status.busy": "2023-01-25T13:57:17.419523Z",
     "iopub.status.idle": "2023-01-25T13:57:17.423989Z",
     "shell.execute_reply": "2023-01-25T13:57:17.423161Z"
    },
    "papermill": {
     "duration": 0.016519,
     "end_time": "2023-01-25T13:57:17.425818",
     "exception": false,
     "start_time": "2023-01-25T13:57:17.409299",
     "status": "completed"
    },
    "tags": []
   },
   "outputs": [],
   "source": [
    "#mask_rescaled = (255.0 / mask_im .max() * (mask_im - mask_im .min())).astype(np.uint8)"
   ]
  },
  {
   "cell_type": "code",
   "execution_count": 29,
   "id": "5341973b",
   "metadata": {
    "execution": {
     "iopub.execute_input": "2023-01-25T13:57:17.446026Z",
     "iopub.status.busy": "2023-01-25T13:57:17.445180Z",
     "iopub.status.idle": "2023-01-25T13:57:17.449772Z",
     "shell.execute_reply": "2023-01-25T13:57:17.448898Z"
    },
    "papermill": {
     "duration": 0.016698,
     "end_time": "2023-01-25T13:57:17.451750",
     "exception": false,
     "start_time": "2023-01-25T13:57:17.435052",
     "status": "completed"
    },
    "tags": []
   },
   "outputs": [],
   "source": [
    "#im = Image.fromarray(mask_rescaled)"
   ]
  },
  {
   "cell_type": "code",
   "execution_count": 30,
   "id": "632aa5fb",
   "metadata": {
    "execution": {
     "iopub.execute_input": "2023-01-25T13:57:17.472102Z",
     "iopub.status.busy": "2023-01-25T13:57:17.471279Z",
     "iopub.status.idle": "2023-01-25T13:57:17.475727Z",
     "shell.execute_reply": "2023-01-25T13:57:17.474853Z"
    },
    "papermill": {
     "duration": 0.0166,
     "end_time": "2023-01-25T13:57:17.477683",
     "exception": false,
     "start_time": "2023-01-25T13:57:17.461083",
     "status": "completed"
    },
    "tags": []
   },
   "outputs": [],
   "source": [
    "#im"
   ]
  },
  {
   "cell_type": "code",
   "execution_count": 31,
   "id": "a7174e22",
   "metadata": {
    "execution": {
     "iopub.execute_input": "2023-01-25T13:57:17.497426Z",
     "iopub.status.busy": "2023-01-25T13:57:17.496784Z",
     "iopub.status.idle": "2023-01-25T13:57:17.500938Z",
     "shell.execute_reply": "2023-01-25T13:57:17.499990Z"
    },
    "papermill": {
     "duration": 0.016103,
     "end_time": "2023-01-25T13:57:17.502862",
     "exception": false,
     "start_time": "2023-01-25T13:57:17.486759",
     "status": "completed"
    },
    "tags": []
   },
   "outputs": [],
   "source": [
    "#plt.figure(figsize = (10,10))\n",
    "#plt.imshow(tst_img)\n",
    "#plt.imshow(pred_mask, alpha=0.5)\n",
    "#plt.savefig('segmented.png')"
   ]
  },
  {
   "cell_type": "code",
   "execution_count": 32,
   "id": "86e3c2a1",
   "metadata": {
    "execution": {
     "iopub.execute_input": "2023-01-25T13:57:17.523843Z",
     "iopub.status.busy": "2023-01-25T13:57:17.522406Z",
     "iopub.status.idle": "2023-01-25T13:57:17.526839Z",
     "shell.execute_reply": "2023-01-25T13:57:17.526030Z"
    },
    "papermill": {
     "duration": 0.016777,
     "end_time": "2023-01-25T13:57:17.528785",
     "exception": false,
     "start_time": "2023-01-25T13:57:17.512008",
     "status": "completed"
    },
    "tags": []
   },
   "outputs": [],
   "source": [
    "#load_image('segmented.png')"
   ]
  },
  {
   "cell_type": "code",
   "execution_count": 33,
   "id": "34168501",
   "metadata": {
    "execution": {
     "iopub.execute_input": "2023-01-25T13:57:17.548723Z",
     "iopub.status.busy": "2023-01-25T13:57:17.547861Z",
     "iopub.status.idle": "2023-01-25T13:57:17.552146Z",
     "shell.execute_reply": "2023-01-25T13:57:17.551324Z"
    },
    "papermill": {
     "duration": 0.016333,
     "end_time": "2023-01-25T13:57:17.554105",
     "exception": false,
     "start_time": "2023-01-25T13:57:17.537772",
     "status": "completed"
    },
    "tags": []
   },
   "outputs": [],
   "source": [
    "#!pip install gradio"
   ]
  },
  {
   "cell_type": "code",
   "execution_count": 34,
   "id": "359d403f",
   "metadata": {
    "execution": {
     "iopub.execute_input": "2023-01-25T13:57:17.573816Z",
     "iopub.status.busy": "2023-01-25T13:57:17.573191Z",
     "iopub.status.idle": "2023-01-25T13:57:17.577251Z",
     "shell.execute_reply": "2023-01-25T13:57:17.576331Z"
    },
    "papermill": {
     "duration": 0.01613,
     "end_time": "2023-01-25T13:57:17.579331",
     "exception": false,
     "start_time": "2023-01-25T13:57:17.563201",
     "status": "completed"
    },
    "tags": []
   },
   "outputs": [],
   "source": [
    "#import gradio as gr\n",
    "#def segment(image):\n",
    "    \n",
    "#    pred = learn.predict(image)\n",
    "#    pred_mask = pred[0]\n",
    "#    plt.figure(figsize = (10,10))\n",
    "#    plt.imshow(image)\n",
    "#    plt.imshow(pred_mask, alpha=0.5)\n",
    "#    plt.savefig('segmented.png')\n",
    "#    return load_image('segmented.png')\n",
    "\n",
    "\n",
    "#gr.Interface(fn=segment, inputs=\"image\", outputs=\"image\").launch(share=True)\n"
   ]
  },
  {
   "cell_type": "code",
   "execution_count": null,
   "id": "3d807148",
   "metadata": {
    "papermill": {
     "duration": 0.00899,
     "end_time": "2023-01-25T13:57:17.597261",
     "exception": false,
     "start_time": "2023-01-25T13:57:17.588271",
     "status": "completed"
    },
    "tags": []
   },
   "outputs": [],
   "source": []
  }
 ],
 "metadata": {
  "kernelspec": {
   "display_name": "Python 3",
   "language": "python",
   "name": "python3"
  },
  "language_info": {
   "codemirror_mode": {
    "name": "ipython",
    "version": 3
   },
   "file_extension": ".py",
   "mimetype": "text/x-python",
   "name": "python",
   "nbconvert_exporter": "python",
   "pygments_lexer": "ipython3",
   "version": "3.7.12"
  },
  "papermill": {
   "default_parameters": {},
   "duration": 1074.87032,
   "end_time": "2023-01-25T13:57:20.194600",
   "environment_variables": {},
   "exception": null,
   "input_path": "__notebook__.ipynb",
   "output_path": "__notebook__.ipynb",
   "parameters": {},
   "start_time": "2023-01-25T13:39:25.324280",
   "version": "2.3.4"
  },
  "widgets": {
   "application/vnd.jupyter.widget-state+json": {
    "state": {
     "01405b8233f74343b60c461782a785bd": {
      "model_module": "@jupyter-widgets/base",
      "model_module_version": "1.2.0",
      "model_name": "LayoutModel",
      "state": {
       "_model_module": "@jupyter-widgets/base",
       "_model_module_version": "1.2.0",
       "_model_name": "LayoutModel",
       "_view_count": null,
       "_view_module": "@jupyter-widgets/base",
       "_view_module_version": "1.2.0",
       "_view_name": "LayoutView",
       "align_content": null,
       "align_items": null,
       "align_self": null,
       "border": null,
       "bottom": null,
       "display": null,
       "flex": null,
       "flex_flow": null,
       "grid_area": null,
       "grid_auto_columns": null,
       "grid_auto_flow": null,
       "grid_auto_rows": null,
       "grid_column": null,
       "grid_gap": null,
       "grid_row": null,
       "grid_template_areas": null,
       "grid_template_columns": null,
       "grid_template_rows": null,
       "height": null,
       "justify_content": null,
       "justify_items": null,
       "left": null,
       "margin": null,
       "max_height": null,
       "max_width": null,
       "min_height": null,
       "min_width": null,
       "object_fit": null,
       "object_position": null,
       "order": null,
       "overflow": null,
       "overflow_x": null,
       "overflow_y": null,
       "padding": null,
       "right": null,
       "top": null,
       "visibility": null,
       "width": null
      }
     },
     "11cdef5e886a44b29732158eb9c43968": {
      "model_module": "@jupyter-widgets/base",
      "model_module_version": "1.2.0",
      "model_name": "LayoutModel",
      "state": {
       "_model_module": "@jupyter-widgets/base",
       "_model_module_version": "1.2.0",
       "_model_name": "LayoutModel",
       "_view_count": null,
       "_view_module": "@jupyter-widgets/base",
       "_view_module_version": "1.2.0",
       "_view_name": "LayoutView",
       "align_content": null,
       "align_items": null,
       "align_self": null,
       "border": null,
       "bottom": null,
       "display": null,
       "flex": null,
       "flex_flow": null,
       "grid_area": null,
       "grid_auto_columns": null,
       "grid_auto_flow": null,
       "grid_auto_rows": null,
       "grid_column": null,
       "grid_gap": null,
       "grid_row": null,
       "grid_template_areas": null,
       "grid_template_columns": null,
       "grid_template_rows": null,
       "height": null,
       "justify_content": null,
       "justify_items": null,
       "left": null,
       "margin": null,
       "max_height": null,
       "max_width": null,
       "min_height": null,
       "min_width": null,
       "object_fit": null,
       "object_position": null,
       "order": null,
       "overflow": null,
       "overflow_x": null,
       "overflow_y": null,
       "padding": null,
       "right": null,
       "top": null,
       "visibility": null,
       "width": null
      }
     },
     "27c80a52d70e4626979e2f1140ac5548": {
      "model_module": "@jupyter-widgets/base",
      "model_module_version": "1.2.0",
      "model_name": "LayoutModel",
      "state": {
       "_model_module": "@jupyter-widgets/base",
       "_model_module_version": "1.2.0",
       "_model_name": "LayoutModel",
       "_view_count": null,
       "_view_module": "@jupyter-widgets/base",
       "_view_module_version": "1.2.0",
       "_view_name": "LayoutView",
       "align_content": null,
       "align_items": null,
       "align_self": null,
       "border": null,
       "bottom": null,
       "display": null,
       "flex": null,
       "flex_flow": null,
       "grid_area": null,
       "grid_auto_columns": null,
       "grid_auto_flow": null,
       "grid_auto_rows": null,
       "grid_column": null,
       "grid_gap": null,
       "grid_row": null,
       "grid_template_areas": null,
       "grid_template_columns": null,
       "grid_template_rows": null,
       "height": null,
       "justify_content": null,
       "justify_items": null,
       "left": null,
       "margin": null,
       "max_height": null,
       "max_width": null,
       "min_height": null,
       "min_width": null,
       "object_fit": null,
       "object_position": null,
       "order": null,
       "overflow": null,
       "overflow_x": null,
       "overflow_y": null,
       "padding": null,
       "right": null,
       "top": null,
       "visibility": null,
       "width": null
      }
     },
     "35b642bdf8c642928038ce09b9b81e70": {
      "model_module": "@jupyter-widgets/controls",
      "model_module_version": "1.5.0",
      "model_name": "FloatProgressModel",
      "state": {
       "_dom_classes": [],
       "_model_module": "@jupyter-widgets/controls",
       "_model_module_version": "1.5.0",
       "_model_name": "FloatProgressModel",
       "_view_count": null,
       "_view_module": "@jupyter-widgets/controls",
       "_view_module_version": "1.5.0",
       "_view_name": "ProgressView",
       "bar_style": "success",
       "description": "",
       "description_tooltip": null,
       "layout": "IPY_MODEL_11cdef5e886a44b29732158eb9c43968",
       "max": 87319819.0,
       "min": 0.0,
       "orientation": "horizontal",
       "style": "IPY_MODEL_3c2e014c4a5a4527bdce670a46f5a8bf",
       "value": 87319819.0
      }
     },
     "3c2e014c4a5a4527bdce670a46f5a8bf": {
      "model_module": "@jupyter-widgets/controls",
      "model_module_version": "1.5.0",
      "model_name": "ProgressStyleModel",
      "state": {
       "_model_module": "@jupyter-widgets/controls",
       "_model_module_version": "1.5.0",
       "_model_name": "ProgressStyleModel",
       "_view_count": null,
       "_view_module": "@jupyter-widgets/base",
       "_view_module_version": "1.2.0",
       "_view_name": "StyleView",
       "bar_color": null,
       "description_width": ""
      }
     },
     "40327e8f70234e349b318b26f9a5a433": {
      "model_module": "@jupyter-widgets/controls",
      "model_module_version": "1.5.0",
      "model_name": "DescriptionStyleModel",
      "state": {
       "_model_module": "@jupyter-widgets/controls",
       "_model_module_version": "1.5.0",
       "_model_name": "DescriptionStyleModel",
       "_view_count": null,
       "_view_module": "@jupyter-widgets/base",
       "_view_module_version": "1.2.0",
       "_view_name": "StyleView",
       "description_width": ""
      }
     },
     "450bce403e3b40b7b70ddfe3280b415b": {
      "model_module": "@jupyter-widgets/controls",
      "model_module_version": "1.5.0",
      "model_name": "HTMLModel",
      "state": {
       "_dom_classes": [],
       "_model_module": "@jupyter-widgets/controls",
       "_model_module_version": "1.5.0",
       "_model_name": "HTMLModel",
       "_view_count": null,
       "_view_module": "@jupyter-widgets/controls",
       "_view_module_version": "1.5.0",
       "_view_name": "HTMLView",
       "description": "",
       "description_tooltip": null,
       "layout": "IPY_MODEL_27c80a52d70e4626979e2f1140ac5548",
       "placeholder": "​",
       "style": "IPY_MODEL_ec9367e18bb645548470b7343a595d4a",
       "value": " 83.3M/83.3M [00:04&lt;00:00, 23.9MB/s]"
      }
     },
     "53f93e1fc441414dac45d24f037502af": {
      "model_module": "@jupyter-widgets/base",
      "model_module_version": "1.2.0",
      "model_name": "LayoutModel",
      "state": {
       "_model_module": "@jupyter-widgets/base",
       "_model_module_version": "1.2.0",
       "_model_name": "LayoutModel",
       "_view_count": null,
       "_view_module": "@jupyter-widgets/base",
       "_view_module_version": "1.2.0",
       "_view_name": "LayoutView",
       "align_content": null,
       "align_items": null,
       "align_self": null,
       "border": null,
       "bottom": null,
       "display": null,
       "flex": null,
       "flex_flow": null,
       "grid_area": null,
       "grid_auto_columns": null,
       "grid_auto_flow": null,
       "grid_auto_rows": null,
       "grid_column": null,
       "grid_gap": null,
       "grid_row": null,
       "grid_template_areas": null,
       "grid_template_columns": null,
       "grid_template_rows": null,
       "height": null,
       "justify_content": null,
       "justify_items": null,
       "left": null,
       "margin": null,
       "max_height": null,
       "max_width": null,
       "min_height": null,
       "min_width": null,
       "object_fit": null,
       "object_position": null,
       "order": null,
       "overflow": null,
       "overflow_x": null,
       "overflow_y": null,
       "padding": null,
       "right": null,
       "top": null,
       "visibility": null,
       "width": null
      }
     },
     "6b9c4120b2b249fd97846e686b083049": {
      "model_module": "@jupyter-widgets/controls",
      "model_module_version": "1.5.0",
      "model_name": "HTMLModel",
      "state": {
       "_dom_classes": [],
       "_model_module": "@jupyter-widgets/controls",
       "_model_module_version": "1.5.0",
       "_model_name": "HTMLModel",
       "_view_count": null,
       "_view_module": "@jupyter-widgets/controls",
       "_view_module_version": "1.5.0",
       "_view_name": "HTMLView",
       "description": "",
       "description_tooltip": null,
       "layout": "IPY_MODEL_53f93e1fc441414dac45d24f037502af",
       "placeholder": "​",
       "style": "IPY_MODEL_40327e8f70234e349b318b26f9a5a433",
       "value": "100%"
      }
     },
     "ec9367e18bb645548470b7343a595d4a": {
      "model_module": "@jupyter-widgets/controls",
      "model_module_version": "1.5.0",
      "model_name": "DescriptionStyleModel",
      "state": {
       "_model_module": "@jupyter-widgets/controls",
       "_model_module_version": "1.5.0",
       "_model_name": "DescriptionStyleModel",
       "_view_count": null,
       "_view_module": "@jupyter-widgets/base",
       "_view_module_version": "1.2.0",
       "_view_name": "StyleView",
       "description_width": ""
      }
     },
     "f3773862fcef40bd830be3690d24c9cb": {
      "model_module": "@jupyter-widgets/controls",
      "model_module_version": "1.5.0",
      "model_name": "HBoxModel",
      "state": {
       "_dom_classes": [],
       "_model_module": "@jupyter-widgets/controls",
       "_model_module_version": "1.5.0",
       "_model_name": "HBoxModel",
       "_view_count": null,
       "_view_module": "@jupyter-widgets/controls",
       "_view_module_version": "1.5.0",
       "_view_name": "HBoxView",
       "box_style": "",
       "children": [
        "IPY_MODEL_6b9c4120b2b249fd97846e686b083049",
        "IPY_MODEL_35b642bdf8c642928038ce09b9b81e70",
        "IPY_MODEL_450bce403e3b40b7b70ddfe3280b415b"
       ],
       "layout": "IPY_MODEL_01405b8233f74343b60c461782a785bd"
      }
     }
    },
    "version_major": 2,
    "version_minor": 0
   }
  }
 },
 "nbformat": 4,
 "nbformat_minor": 5
}
