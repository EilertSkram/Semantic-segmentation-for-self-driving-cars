{
 "cells": [
  {
   "cell_type": "code",
   "execution_count": 1,
   "id": "27e40fdf",
   "metadata": {
    "_cell_guid": "b1076dfc-b9ad-4769-8c92-a6c4dae69d19",
    "_uuid": "8f2839f25d086af736a60e9eeb907d3b93b6e0e5",
    "execution": {
     "iopub.execute_input": "2023-01-25T16:43:00.377741Z",
     "iopub.status.busy": "2023-01-25T16:43:00.376696Z",
     "iopub.status.idle": "2023-01-25T16:43:00.387627Z",
     "shell.execute_reply": "2023-01-25T16:43:00.386754Z"
    },
    "papermill": {
     "duration": 0.022858,
     "end_time": "2023-01-25T16:43:00.389607",
     "exception": false,
     "start_time": "2023-01-25T16:43:00.366749",
     "status": "completed"
    },
    "tags": []
   },
   "outputs": [],
   "source": [
    "# This Python 3 environment comes with many helpful analytics libraries installed\n",
    "# It is defined by the kaggle/python Docker image: https://github.com/kaggle/docker-python\n",
    "# For example, here's several helpful packages to load\n",
    "\n",
    "import numpy as np # linear algebra\n",
    "import pandas as pd # data processing, CSV file I/O (e.g. pd.read_csv)\n",
    "\n",
    "# Input data files are available in the read-only \"../input/\" directory\n",
    "# For example, running this (by clicking run or pressing Shift+Enter) will list all files under the input directory\n",
    "\n"
   ]
  },
  {
   "cell_type": "code",
   "execution_count": 2,
   "id": "9bfc8e7e",
   "metadata": {
    "execution": {
     "iopub.execute_input": "2023-01-25T16:43:00.405593Z",
     "iopub.status.busy": "2023-01-25T16:43:00.404777Z",
     "iopub.status.idle": "2023-01-25T16:43:03.811569Z",
     "shell.execute_reply": "2023-01-25T16:43:03.810580Z"
    },
    "papermill": {
     "duration": 3.41729,
     "end_time": "2023-01-25T16:43:03.814243",
     "exception": false,
     "start_time": "2023-01-25T16:43:00.396953",
     "status": "completed"
    },
    "tags": []
   },
   "outputs": [],
   "source": [
    "from fastai.vision.all import *\n",
    "from pathlib import Path\n",
    "\n",
    "\n",
    "import os\n",
    "kaggle = os.environ.get('KAGGLE_KERNEL_RUN_TYPE', '')"
   ]
  },
  {
   "cell_type": "code",
   "execution_count": 3,
   "id": "c70f7b57",
   "metadata": {
    "execution": {
     "iopub.execute_input": "2023-01-25T16:43:03.831697Z",
     "iopub.status.busy": "2023-01-25T16:43:03.830068Z",
     "iopub.status.idle": "2023-01-25T16:43:03.835505Z",
     "shell.execute_reply": "2023-01-25T16:43:03.834670Z"
    },
    "papermill": {
     "duration": 0.016146,
     "end_time": "2023-01-25T16:43:03.837816",
     "exception": false,
     "start_time": "2023-01-25T16:43:03.821670",
     "status": "completed"
    },
    "tags": []
   },
   "outputs": [],
   "source": [
    "DATA = Path('/kaggle/input/')\n",
    "path = DATA/'lyft-udacity-challenge'/'dataB'/'dataB'\n"
   ]
  },
  {
   "cell_type": "markdown",
   "id": "7fdd2883",
   "metadata": {
    "papermill": {
     "duration": 0.00708,
     "end_time": "2023-01-25T16:43:03.852286",
     "exception": false,
     "start_time": "2023-01-25T16:43:03.845206",
     "status": "completed"
    },
    "tags": []
   },
   "source": [
    "dls = SegmentationDataLoaders.from_label_func(\n",
    "    path, bs=8, fnames = get_image_files(path/'CameraRGB'),\n",
    "    label_func = lambda o: path/'CameraRGB'/f'{o.stem}_P{o.suffix}',\n",
    "    codes = np.loadtxt(path/'codes.txt', dtype=str)\n",
    ")\n",
    "\n"
   ]
  },
  {
   "cell_type": "code",
   "execution_count": 4,
   "id": "52d309c2",
   "metadata": {
    "execution": {
     "iopub.execute_input": "2023-01-25T16:43:03.868093Z",
     "iopub.status.busy": "2023-01-25T16:43:03.867499Z",
     "iopub.status.idle": "2023-01-25T16:43:03.872465Z",
     "shell.execute_reply": "2023-01-25T16:43:03.871491Z"
    },
    "papermill": {
     "duration": 0.015252,
     "end_time": "2023-01-25T16:43:03.874646",
     "exception": false,
     "start_time": "2023-01-25T16:43:03.859394",
     "status": "completed"
    },
    "tags": []
   },
   "outputs": [],
   "source": [
    "def get_segmentation(fn): return path/'CameraSeg'/f'{fn.stem}{fn.suffix}'\n"
   ]
  },
  {
   "cell_type": "code",
   "execution_count": 5,
   "id": "488d53aa",
   "metadata": {
    "execution": {
     "iopub.execute_input": "2023-01-25T16:43:03.891776Z",
     "iopub.status.busy": "2023-01-25T16:43:03.891449Z",
     "iopub.status.idle": "2023-01-25T16:43:07.499416Z",
     "shell.execute_reply": "2023-01-25T16:43:07.498451Z"
    },
    "papermill": {
     "duration": 3.618421,
     "end_time": "2023-01-25T16:43:07.501850",
     "exception": false,
     "start_time": "2023-01-25T16:43:03.883429",
     "status": "completed"
    },
    "tags": []
   },
   "outputs": [],
   "source": [
    "\n",
    "dls = SegmentationDataLoaders.from_label_func(\n",
    "    path, bs=4, fnames = get_image_files(path/\"CameraRGB\"),\n",
    "    label_func = get_segmentation,\n",
    "    codes=None\n",
    ")\n",
    "\n"
   ]
  },
  {
   "cell_type": "code",
   "execution_count": 6,
   "id": "ec46f9e4",
   "metadata": {
    "execution": {
     "iopub.execute_input": "2023-01-25T16:43:07.518362Z",
     "iopub.status.busy": "2023-01-25T16:43:07.517589Z",
     "iopub.status.idle": "2023-01-25T17:00:43.473997Z",
     "shell.execute_reply": "2023-01-25T17:00:43.472768Z"
    },
    "papermill": {
     "duration": 1055.967009,
     "end_time": "2023-01-25T17:00:43.476403",
     "exception": false,
     "start_time": "2023-01-25T16:43:07.509394",
     "status": "completed"
    },
    "tags": []
   },
   "outputs": [
    {
     "name": "stderr",
     "output_type": "stream",
     "text": [
      "Downloading: \"https://download.pytorch.org/models/resnet34-b627a593.pth\" to /root/.cache/torch/hub/checkpoints/resnet34-b627a593.pth\n"
     ]
    },
    {
     "data": {
      "application/vnd.jupyter.widget-view+json": {
       "model_id": "54231076c0874265912a8708067a90a9",
       "version_major": 2,
       "version_minor": 0
      },
      "text/plain": [
       "  0%|          | 0.00/83.3M [00:00<?, ?B/s]"
      ]
     },
     "metadata": {},
     "output_type": "display_data"
    },
    {
     "data": {
      "text/html": [
       "\n",
       "<style>\n",
       "    /* Turns off some styling */\n",
       "    progress {\n",
       "        /* gets rid of default border in Firefox and Opera. */\n",
       "        border: none;\n",
       "        /* Needs to be in here for Safari polyfill so background images work as expected. */\n",
       "        background-size: auto;\n",
       "    }\n",
       "    progress:not([value]), progress:not([value])::-webkit-progress-bar {\n",
       "        background: repeating-linear-gradient(45deg, #7e7e7e, #7e7e7e 10px, #5c5c5c 10px, #5c5c5c 20px);\n",
       "    }\n",
       "    .progress-bar-interrupted, .progress-bar-interrupted::-webkit-progress-bar {\n",
       "        background: #F44336;\n",
       "    }\n",
       "</style>\n"
      ],
      "text/plain": [
       "<IPython.core.display.HTML object>"
      ]
     },
     "metadata": {},
     "output_type": "display_data"
    },
    {
     "data": {
      "text/html": [
       "<table border=\"1\" class=\"dataframe\">\n",
       "  <thead>\n",
       "    <tr style=\"text-align: left;\">\n",
       "      <th>epoch</th>\n",
       "      <th>train_loss</th>\n",
       "      <th>valid_loss</th>\n",
       "      <th>time</th>\n",
       "    </tr>\n",
       "  </thead>\n",
       "  <tbody>\n",
       "    <tr>\n",
       "      <td>0</td>\n",
       "      <td>0.228382</td>\n",
       "      <td>0.173961</td>\n",
       "      <td>02:53</td>\n",
       "    </tr>\n",
       "  </tbody>\n",
       "</table>"
      ],
      "text/plain": [
       "<IPython.core.display.HTML object>"
      ]
     },
     "metadata": {},
     "output_type": "display_data"
    },
    {
     "data": {
      "text/html": [
       "\n",
       "<style>\n",
       "    /* Turns off some styling */\n",
       "    progress {\n",
       "        /* gets rid of default border in Firefox and Opera. */\n",
       "        border: none;\n",
       "        /* Needs to be in here for Safari polyfill so background images work as expected. */\n",
       "        background-size: auto;\n",
       "    }\n",
       "    progress:not([value]), progress:not([value])::-webkit-progress-bar {\n",
       "        background: repeating-linear-gradient(45deg, #7e7e7e, #7e7e7e 10px, #5c5c5c 10px, #5c5c5c 20px);\n",
       "    }\n",
       "    .progress-bar-interrupted, .progress-bar-interrupted::-webkit-progress-bar {\n",
       "        background: #F44336;\n",
       "    }\n",
       "</style>\n"
      ],
      "text/plain": [
       "<IPython.core.display.HTML object>"
      ]
     },
     "metadata": {},
     "output_type": "display_data"
    },
    {
     "data": {
      "text/html": [
       "<table border=\"1\" class=\"dataframe\">\n",
       "  <thead>\n",
       "    <tr style=\"text-align: left;\">\n",
       "      <th>epoch</th>\n",
       "      <th>train_loss</th>\n",
       "      <th>valid_loss</th>\n",
       "      <th>time</th>\n",
       "    </tr>\n",
       "  </thead>\n",
       "  <tbody>\n",
       "    <tr>\n",
       "      <td>0</td>\n",
       "      <td>0.119005</td>\n",
       "      <td>0.107553</td>\n",
       "      <td>02:54</td>\n",
       "    </tr>\n",
       "    <tr>\n",
       "      <td>1</td>\n",
       "      <td>0.089564</td>\n",
       "      <td>0.078002</td>\n",
       "      <td>02:54</td>\n",
       "    </tr>\n",
       "    <tr>\n",
       "      <td>2</td>\n",
       "      <td>0.124716</td>\n",
       "      <td>0.075707</td>\n",
       "      <td>02:54</td>\n",
       "    </tr>\n",
       "    <tr>\n",
       "      <td>3</td>\n",
       "      <td>0.054160</td>\n",
       "      <td>0.055522</td>\n",
       "      <td>02:54</td>\n",
       "    </tr>\n",
       "    <tr>\n",
       "      <td>4</td>\n",
       "      <td>0.046628</td>\n",
       "      <td>0.053040</td>\n",
       "      <td>02:54</td>\n",
       "    </tr>\n",
       "  </tbody>\n",
       "</table>"
      ],
      "text/plain": [
       "<IPython.core.display.HTML object>"
      ]
     },
     "metadata": {},
     "output_type": "display_data"
    }
   ],
   "source": [
    "learn = unet_learner(dls, resnet34, n_out = 12)\n",
    "learn.fine_tune(5)\n",
    "     "
   ]
  },
  {
   "cell_type": "code",
   "execution_count": 7,
   "id": "c6ba7c4b",
   "metadata": {
    "execution": {
     "iopub.execute_input": "2023-01-25T17:00:43.495530Z",
     "iopub.status.busy": "2023-01-25T17:00:43.495162Z",
     "iopub.status.idle": "2023-01-25T17:00:45.796673Z",
     "shell.execute_reply": "2023-01-25T17:00:45.795706Z"
    },
    "papermill": {
     "duration": 2.31628,
     "end_time": "2023-01-25T17:00:45.801365",
     "exception": false,
     "start_time": "2023-01-25T17:00:43.485085",
     "status": "completed"
    },
    "tags": []
   },
   "outputs": [
    {
     "data": {
      "text/html": [
       "\n",
       "<style>\n",
       "    /* Turns off some styling */\n",
       "    progress {\n",
       "        /* gets rid of default border in Firefox and Opera. */\n",
       "        border: none;\n",
       "        /* Needs to be in here for Safari polyfill so background images work as expected. */\n",
       "        background-size: auto;\n",
       "    }\n",
       "    progress:not([value]), progress:not([value])::-webkit-progress-bar {\n",
       "        background: repeating-linear-gradient(45deg, #7e7e7e, #7e7e7e 10px, #5c5c5c 10px, #5c5c5c 20px);\n",
       "    }\n",
       "    .progress-bar-interrupted, .progress-bar-interrupted::-webkit-progress-bar {\n",
       "        background: #F44336;\n",
       "    }\n",
       "</style>\n"
      ],
      "text/plain": [
       "<IPython.core.display.HTML object>"
      ]
     },
     "metadata": {},
     "output_type": "display_data"
    },
    {
     "data": {
      "text/html": [],
      "text/plain": [
       "<IPython.core.display.HTML object>"
      ]
     },
     "metadata": {},
     "output_type": "display_data"
    },
    {
     "data": {
      "image/png": "[encoded data removed]",
      "text/plain": [
       "<Figure size 720x720 with 8 Axes>"
      ]
     },
     "metadata": {
      "needs_background": "light"
     },
     "output_type": "display_data"
    }
   ],
   "source": [
    "learn.show_results(max_n=6, figsize=(10,10))"
   ]
  },
  {
   "cell_type": "code",
   "execution_count": 8,
   "id": "a380e279",
   "metadata": {
    "execution": {
     "iopub.execute_input": "2023-01-25T17:00:45.825885Z",
     "iopub.status.busy": "2023-01-25T17:00:45.825500Z",
     "iopub.status.idle": "2023-01-25T17:00:45.830420Z",
     "shell.execute_reply": "2023-01-25T17:00:45.829418Z"
    },
    "papermill": {
     "duration": 0.019816,
     "end_time": "2023-01-25T17:00:45.832691",
     "exception": false,
     "start_time": "2023-01-25T17:00:45.812875",
     "status": "completed"
    },
    "tags": []
   },
   "outputs": [],
   "source": [
    "learn.path = Path('/kaggle/working/')"
   ]
  },
  {
   "cell_type": "code",
   "execution_count": 9,
   "id": "64e58356",
   "metadata": {
    "execution": {
     "iopub.execute_input": "2023-01-25T17:00:45.857532Z",
     "iopub.status.busy": "2023-01-25T17:00:45.856577Z",
     "iopub.status.idle": "2023-01-25T17:00:46.652332Z",
     "shell.execute_reply": "2023-01-25T17:00:46.651301Z"
    },
    "papermill": {
     "duration": 0.811201,
     "end_time": "2023-01-25T17:00:46.655076",
     "exception": false,
     "start_time": "2023-01-25T17:00:45.843875",
     "status": "completed"
    },
    "tags": []
   },
   "outputs": [],
   "source": [
    "learn.export('dashboard_segment.pkl')"
   ]
  },
  {
   "cell_type": "code",
   "execution_count": 10,
   "id": "a4aade9e",
   "metadata": {
    "execution": {
     "iopub.execute_input": "2023-01-25T17:00:46.679705Z",
     "iopub.status.busy": "2023-01-25T17:00:46.678879Z",
     "iopub.status.idle": "2023-01-25T17:00:46.684113Z",
     "shell.execute_reply": "2023-01-25T17:00:46.682973Z"
    },
    "papermill": {
     "duration": 0.020107,
     "end_time": "2023-01-25T17:00:46.686280",
     "exception": false,
     "start_time": "2023-01-25T17:00:46.666173",
     "status": "completed"
    },
    "tags": []
   },
   "outputs": [],
   "source": [
    "#test_img=(DATA/'lyft-udacity-challenge'/'dataC'/'dataC'/'CameraRGB').ls()[0]"
   ]
  },
  {
   "cell_type": "code",
   "execution_count": 11,
   "id": "6a218f4d",
   "metadata": {
    "execution": {
     "iopub.execute_input": "2023-01-25T17:00:46.710272Z",
     "iopub.status.busy": "2023-01-25T17:00:46.709339Z",
     "iopub.status.idle": "2023-01-25T17:00:46.714191Z",
     "shell.execute_reply": "2023-01-25T17:00:46.713186Z"
    },
    "papermill": {
     "duration": 0.019142,
     "end_time": "2023-01-25T17:00:46.716327",
     "exception": false,
     "start_time": "2023-01-25T17:00:46.697185",
     "status": "completed"
    },
    "tags": []
   },
   "outputs": [],
   "source": [
    "#test_pred = learn.predict(test_img)\n"
   ]
  },
  {
   "cell_type": "code",
   "execution_count": 12,
   "id": "bbc944a3",
   "metadata": {
    "execution": {
     "iopub.execute_input": "2023-01-25T17:00:46.739731Z",
     "iopub.status.busy": "2023-01-25T17:00:46.739044Z",
     "iopub.status.idle": "2023-01-25T17:00:46.743506Z",
     "shell.execute_reply": "2023-01-25T17:00:46.742419Z"
    },
    "papermill": {
     "duration": 0.018789,
     "end_time": "2023-01-25T17:00:46.745708",
     "exception": false,
     "start_time": "2023-01-25T17:00:46.726919",
     "status": "completed"
    },
    "tags": []
   },
   "outputs": [],
   "source": [
    "#test_pred"
   ]
  },
  {
   "cell_type": "code",
   "execution_count": 13,
   "id": "2d48390c",
   "metadata": {
    "execution": {
     "iopub.execute_input": "2023-01-25T17:00:46.769247Z",
     "iopub.status.busy": "2023-01-25T17:00:46.768165Z",
     "iopub.status.idle": "2023-01-25T17:00:46.772984Z",
     "shell.execute_reply": "2023-01-25T17:00:46.772139Z"
    },
    "papermill": {
     "duration": 0.018609,
     "end_time": "2023-01-25T17:00:46.775087",
     "exception": false,
     "start_time": "2023-01-25T17:00:46.756478",
     "status": "completed"
    },
    "tags": []
   },
   "outputs": [],
   "source": [
    "#from PIL import Image"
   ]
  },
  {
   "cell_type": "code",
   "execution_count": 14,
   "id": "0ff26802",
   "metadata": {
    "execution": {
     "iopub.execute_input": "2023-01-25T17:00:46.798245Z",
     "iopub.status.busy": "2023-01-25T17:00:46.797497Z",
     "iopub.status.idle": "2023-01-25T17:00:46.801832Z",
     "shell.execute_reply": "2023-01-25T17:00:46.800869Z"
    },
    "papermill": {
     "duration": 0.018116,
     "end_time": "2023-01-25T17:00:46.804017",
     "exception": false,
     "start_time": "2023-01-25T17:00:46.785901",
     "status": "completed"
    },
    "tags": []
   },
   "outputs": [],
   "source": [
    "#pred_mask = test_pred[0]"
   ]
  },
  {
   "cell_type": "code",
   "execution_count": 15,
   "id": "c1b76357",
   "metadata": {
    "execution": {
     "iopub.execute_input": "2023-01-25T17:00:46.826935Z",
     "iopub.status.busy": "2023-01-25T17:00:46.826018Z",
     "iopub.status.idle": "2023-01-25T17:00:46.830533Z",
     "shell.execute_reply": "2023-01-25T17:00:46.829633Z"
    },
    "papermill": {
     "duration": 0.018339,
     "end_time": "2023-01-25T17:00:46.832684",
     "exception": false,
     "start_time": "2023-01-25T17:00:46.814345",
     "status": "completed"
    },
    "tags": []
   },
   "outputs": [],
   "source": [
    "#pred_b1 = test_pred[1]\n",
    "#pred_b2 = test_pred[2]"
   ]
  },
  {
   "cell_type": "code",
   "execution_count": 16,
   "id": "000b73ed",
   "metadata": {
    "execution": {
     "iopub.execute_input": "2023-01-25T17:00:46.856671Z",
     "iopub.status.busy": "2023-01-25T17:00:46.855030Z",
     "iopub.status.idle": "2023-01-25T17:00:46.859924Z",
     "shell.execute_reply": "2023-01-25T17:00:46.859018Z"
    },
    "papermill": {
     "duration": 0.018789,
     "end_time": "2023-01-25T17:00:46.862021",
     "exception": false,
     "start_time": "2023-01-25T17:00:46.843232",
     "status": "completed"
    },
    "tags": []
   },
   "outputs": [],
   "source": [
    "#plt.imshow(pred_mask)"
   ]
  },
  {
   "cell_type": "code",
   "execution_count": 17,
   "id": "902ae158",
   "metadata": {
    "execution": {
     "iopub.execute_input": "2023-01-25T17:00:46.886836Z",
     "iopub.status.busy": "2023-01-25T17:00:46.885136Z",
     "iopub.status.idle": "2023-01-25T17:00:46.890214Z",
     "shell.execute_reply": "2023-01-25T17:00:46.889244Z"
    },
    "papermill": {
     "duration": 0.019517,
     "end_time": "2023-01-25T17:00:46.892279",
     "exception": false,
     "start_time": "2023-01-25T17:00:46.872762",
     "status": "completed"
    },
    "tags": []
   },
   "outputs": [],
   "source": [
    "#plt.imshow(pred_b1)"
   ]
  },
  {
   "cell_type": "code",
   "execution_count": 18,
   "id": "ba0e2795",
   "metadata": {
    "execution": {
     "iopub.execute_input": "2023-01-25T17:00:46.916031Z",
     "iopub.status.busy": "2023-01-25T17:00:46.915494Z",
     "iopub.status.idle": "2023-01-25T17:00:46.919804Z",
     "shell.execute_reply": "2023-01-25T17:00:46.918707Z"
    },
    "papermill": {
     "duration": 0.018975,
     "end_time": "2023-01-25T17:00:46.921981",
     "exception": false,
     "start_time": "2023-01-25T17:00:46.903006",
     "status": "completed"
    },
    "tags": []
   },
   "outputs": [],
   "source": [
    "#pred_b2.shape"
   ]
  },
  {
   "cell_type": "code",
   "execution_count": 19,
   "id": "0b9ef6f6",
   "metadata": {
    "execution": {
     "iopub.execute_input": "2023-01-25T17:00:46.946102Z",
     "iopub.status.busy": "2023-01-25T17:00:46.944467Z",
     "iopub.status.idle": "2023-01-25T17:00:46.949497Z",
     "shell.execute_reply": "2023-01-25T17:00:46.948499Z"
    },
    "papermill": {
     "duration": 0.019062,
     "end_time": "2023-01-25T17:00:46.951578",
     "exception": false,
     "start_time": "2023-01-25T17:00:46.932516",
     "status": "completed"
    },
    "tags": []
   },
   "outputs": [],
   "source": [
    "#pred_arx = pred_b2.argmax(dim=0)"
   ]
  },
  {
   "cell_type": "code",
   "execution_count": 20,
   "id": "a4789f2c",
   "metadata": {
    "execution": {
     "iopub.execute_input": "2023-01-25T17:00:46.974688Z",
     "iopub.status.busy": "2023-01-25T17:00:46.973820Z",
     "iopub.status.idle": "2023-01-25T17:00:46.978493Z",
     "shell.execute_reply": "2023-01-25T17:00:46.977585Z"
    },
    "papermill": {
     "duration": 0.018229,
     "end_time": "2023-01-25T17:00:46.980511",
     "exception": false,
     "start_time": "2023-01-25T17:00:46.962282",
     "status": "completed"
    },
    "tags": []
   },
   "outputs": [],
   "source": [
    "#pred_arx = pred_arx.numpy()"
   ]
  },
  {
   "cell_type": "code",
   "execution_count": 21,
   "id": "28b82d77",
   "metadata": {
    "execution": {
     "iopub.execute_input": "2023-01-25T17:00:47.004882Z",
     "iopub.status.busy": "2023-01-25T17:00:47.003101Z",
     "iopub.status.idle": "2023-01-25T17:00:47.008173Z",
     "shell.execute_reply": "2023-01-25T17:00:47.007233Z"
    },
    "papermill": {
     "duration": 0.019332,
     "end_time": "2023-01-25T17:00:47.010460",
     "exception": false,
     "start_time": "2023-01-25T17:00:46.991128",
     "status": "completed"
    },
    "tags": []
   },
   "outputs": [],
   "source": [
    "#rescaled = (255.0 / pred_arx.max() * (pred_arx - pred_arx.min())).astype(np.uint8)"
   ]
  },
  {
   "cell_type": "code",
   "execution_count": 22,
   "id": "44e5b3a9",
   "metadata": {
    "execution": {
     "iopub.execute_input": "2023-01-25T17:00:47.033998Z",
     "iopub.status.busy": "2023-01-25T17:00:47.033068Z",
     "iopub.status.idle": "2023-01-25T17:00:47.037961Z",
     "shell.execute_reply": "2023-01-25T17:00:47.037088Z"
    },
    "papermill": {
     "duration": 0.018982,
     "end_time": "2023-01-25T17:00:47.040091",
     "exception": false,
     "start_time": "2023-01-25T17:00:47.021109",
     "status": "completed"
    },
    "tags": []
   },
   "outputs": [],
   "source": [
    "#im = Image.fromarray(rescaled)"
   ]
  },
  {
   "cell_type": "code",
   "execution_count": 23,
   "id": "25d5b614",
   "metadata": {
    "execution": {
     "iopub.execute_input": "2023-01-25T17:00:47.064698Z",
     "iopub.status.busy": "2023-01-25T17:00:47.063761Z",
     "iopub.status.idle": "2023-01-25T17:00:47.068636Z",
     "shell.execute_reply": "2023-01-25T17:00:47.067692Z"
    },
    "papermill": {
     "duration": 0.019333,
     "end_time": "2023-01-25T17:00:47.070881",
     "exception": false,
     "start_time": "2023-01-25T17:00:47.051548",
     "status": "completed"
    },
    "tags": []
   },
   "outputs": [],
   "source": [
    "#im"
   ]
  },
  {
   "cell_type": "code",
   "execution_count": 24,
   "id": "434d5973",
   "metadata": {
    "execution": {
     "iopub.execute_input": "2023-01-25T17:00:47.096468Z",
     "iopub.status.busy": "2023-01-25T17:00:47.094617Z",
     "iopub.status.idle": "2023-01-25T17:00:47.099897Z",
     "shell.execute_reply": "2023-01-25T17:00:47.098907Z"
    },
    "papermill": {
     "duration": 0.019874,
     "end_time": "2023-01-25T17:00:47.102066",
     "exception": false,
     "start_time": "2023-01-25T17:00:47.082192",
     "status": "completed"
    },
    "tags": []
   },
   "outputs": [],
   "source": [
    "#load_image(test_img)"
   ]
  },
  {
   "cell_type": "code",
   "execution_count": 25,
   "id": "c6f17242",
   "metadata": {
    "execution": {
     "iopub.execute_input": "2023-01-25T17:00:47.126378Z",
     "iopub.status.busy": "2023-01-25T17:00:47.125704Z",
     "iopub.status.idle": "2023-01-25T17:00:47.130232Z",
     "shell.execute_reply": "2023-01-25T17:00:47.129192Z"
    },
    "papermill": {
     "duration": 0.019088,
     "end_time": "2023-01-25T17:00:47.132407",
     "exception": false,
     "start_time": "2023-01-25T17:00:47.113319",
     "status": "completed"
    },
    "tags": []
   },
   "outputs": [],
   "source": [
    "#im1 = Image.open(test_img).convert('L')"
   ]
  },
  {
   "cell_type": "code",
   "execution_count": 26,
   "id": "921a9e09",
   "metadata": {
    "execution": {
     "iopub.execute_input": "2023-01-25T17:00:47.156422Z",
     "iopub.status.busy": "2023-01-25T17:00:47.155465Z",
     "iopub.status.idle": "2023-01-25T17:00:47.160549Z",
     "shell.execute_reply": "2023-01-25T17:00:47.159636Z"
    },
    "papermill": {
     "duration": 0.019271,
     "end_time": "2023-01-25T17:00:47.162607",
     "exception": false,
     "start_time": "2023-01-25T17:00:47.143336",
     "status": "completed"
    },
    "tags": []
   },
   "outputs": [],
   "source": [
    "#im3 = Image.composite(im1, im1, im.convert('1'))"
   ]
  },
  {
   "cell_type": "code",
   "execution_count": 27,
   "id": "7e91068a",
   "metadata": {
    "execution": {
     "iopub.execute_input": "2023-01-25T17:00:47.187004Z",
     "iopub.status.busy": "2023-01-25T17:00:47.186052Z",
     "iopub.status.idle": "2023-01-25T17:00:47.191057Z",
     "shell.execute_reply": "2023-01-25T17:00:47.190099Z"
    },
    "papermill": {
     "duration": 0.01948,
     "end_time": "2023-01-25T17:00:47.193092",
     "exception": false,
     "start_time": "2023-01-25T17:00:47.173612",
     "status": "completed"
    },
    "tags": []
   },
   "outputs": [],
   "source": [
    "#im3"
   ]
  },
  {
   "cell_type": "code",
   "execution_count": 28,
   "id": "c10970e9",
   "metadata": {
    "execution": {
     "iopub.execute_input": "2023-01-25T17:00:47.216772Z",
     "iopub.status.busy": "2023-01-25T17:00:47.216398Z",
     "iopub.status.idle": "2023-01-25T17:00:47.220679Z",
     "shell.execute_reply": "2023-01-25T17:00:47.219784Z"
    },
    "papermill": {
     "duration": 0.018532,
     "end_time": "2023-01-25T17:00:47.222778",
     "exception": false,
     "start_time": "2023-01-25T17:00:47.204246",
     "status": "completed"
    },
    "tags": []
   },
   "outputs": [],
   "source": [
    "#mask_im = pred_mask.numpy() "
   ]
  },
  {
   "cell_type": "code",
   "execution_count": 29,
   "id": "0e01af4f",
   "metadata": {
    "execution": {
     "iopub.execute_input": "2023-01-25T17:00:47.247969Z",
     "iopub.status.busy": "2023-01-25T17:00:47.246958Z",
     "iopub.status.idle": "2023-01-25T17:00:47.252195Z",
     "shell.execute_reply": "2023-01-25T17:00:47.251226Z"
    },
    "papermill": {
     "duration": 0.020168,
     "end_time": "2023-01-25T17:00:47.254369",
     "exception": false,
     "start_time": "2023-01-25T17:00:47.234201",
     "status": "completed"
    },
    "tags": []
   },
   "outputs": [],
   "source": [
    "#mask_rescaled = (255.0 / mask_im .max() * (mask_im - mask_im .min())).astype(np.uint8)"
   ]
  },
  {
   "cell_type": "code",
   "execution_count": 30,
   "id": "f3c4ccdd",
   "metadata": {
    "execution": {
     "iopub.execute_input": "2023-01-25T17:00:47.279606Z",
     "iopub.status.busy": "2023-01-25T17:00:47.278593Z",
     "iopub.status.idle": "2023-01-25T17:00:47.283693Z",
     "shell.execute_reply": "2023-01-25T17:00:47.282576Z"
    },
    "papermill": {
     "duration": 0.020024,
     "end_time": "2023-01-25T17:00:47.286031",
     "exception": false,
     "start_time": "2023-01-25T17:00:47.266007",
     "status": "completed"
    },
    "tags": []
   },
   "outputs": [],
   "source": [
    "#im = Image.fromarray(mask_rescaled)"
   ]
  },
  {
   "cell_type": "code",
   "execution_count": 31,
   "id": "c257c725",
   "metadata": {
    "execution": {
     "iopub.execute_input": "2023-01-25T17:00:47.311316Z",
     "iopub.status.busy": "2023-01-25T17:00:47.310505Z",
     "iopub.status.idle": "2023-01-25T17:00:47.315309Z",
     "shell.execute_reply": "2023-01-25T17:00:47.314303Z"
    },
    "papermill": {
     "duration": 0.020266,
     "end_time": "2023-01-25T17:00:47.317583",
     "exception": false,
     "start_time": "2023-01-25T17:00:47.297317",
     "status": "completed"
    },
    "tags": []
   },
   "outputs": [],
   "source": [
    "#im"
   ]
  },
  {
   "cell_type": "code",
   "execution_count": 32,
   "id": "84244f7f",
   "metadata": {
    "execution": {
     "iopub.execute_input": "2023-01-25T17:00:47.342368Z",
     "iopub.status.busy": "2023-01-25T17:00:47.341452Z",
     "iopub.status.idle": "2023-01-25T17:00:47.346286Z",
     "shell.execute_reply": "2023-01-25T17:00:47.345270Z"
    },
    "papermill": {
     "duration": 0.019606,
     "end_time": "2023-01-25T17:00:47.348658",
     "exception": false,
     "start_time": "2023-01-25T17:00:47.329052",
     "status": "completed"
    },
    "tags": []
   },
   "outputs": [],
   "source": [
    "#plt.figure(figsize = (10,10))\n",
    "#plt.imshow(tst_img)\n",
    "#plt.imshow(pred_mask, alpha=0.5)\n",
    "#plt.savefig('segmented.png')"
   ]
  },
  {
   "cell_type": "code",
   "execution_count": 33,
   "id": "2f36efdc",
   "metadata": {
    "execution": {
     "iopub.execute_input": "2023-01-25T17:00:47.375025Z",
     "iopub.status.busy": "2023-01-25T17:00:47.373555Z",
     "iopub.status.idle": "2023-01-25T17:00:47.378793Z",
     "shell.execute_reply": "2023-01-25T17:00:47.377729Z"
    },
    "papermill": {
     "duration": 0.020347,
     "end_time": "2023-01-25T17:00:47.381148",
     "exception": false,
     "start_time": "2023-01-25T17:00:47.360801",
     "status": "completed"
    },
    "tags": []
   },
   "outputs": [],
   "source": [
    "#load_image('segmented.png')"
   ]
  },
  {
   "cell_type": "code",
   "execution_count": 34,
   "id": "5b78f52e",
   "metadata": {
    "execution": {
     "iopub.execute_input": "2023-01-25T17:00:47.407265Z",
     "iopub.status.busy": "2023-01-25T17:00:47.405327Z",
     "iopub.status.idle": "2023-01-25T17:00:47.410961Z",
     "shell.execute_reply": "2023-01-25T17:00:47.409816Z"
    },
    "papermill": {
     "duration": 0.020624,
     "end_time": "2023-01-25T17:00:47.413253",
     "exception": false,
     "start_time": "2023-01-25T17:00:47.392629",
     "status": "completed"
    },
    "tags": []
   },
   "outputs": [],
   "source": [
    "#!pip install gradio"
   ]
  },
  {
   "cell_type": "code",
   "execution_count": 35,
   "id": "3ef40daf",
   "metadata": {
    "execution": {
     "iopub.execute_input": "2023-01-25T17:00:47.438288Z",
     "iopub.status.busy": "2023-01-25T17:00:47.437887Z",
     "iopub.status.idle": "2023-01-25T17:00:47.442833Z",
     "shell.execute_reply": "2023-01-25T17:00:47.441744Z"
    },
    "papermill": {
     "duration": 0.020139,
     "end_time": "2023-01-25T17:00:47.445122",
     "exception": false,
     "start_time": "2023-01-25T17:00:47.424983",
     "status": "completed"
    },
    "tags": []
   },
   "outputs": [],
   "source": [
    "#import gradio as gr\n",
    "#def segment(image):\n",
    "    \n",
    "#    pred = learn.predict(image)\n",
    "#    pred_mask = pred[0]\n",
    "#    plt.figure(figsize = (10,10))\n",
    "#    plt.imshow(image)\n",
    "#    plt.imshow(pred_mask, alpha=0.5)\n",
    "#    plt.savefig('segmented.png')\n",
    "#    return load_image('segmented.png')\n",
    "\n",
    "\n",
    "#gr.Interface(fn=segment, inputs=\"image\", outputs=\"image\").launch(share=True)\n"
   ]
  },
  {
   "cell_type": "code",
   "execution_count": null,
   "id": "f1145c2c",
   "metadata": {
    "papermill": {
     "duration": 0.0113,
     "end_time": "2023-01-25T17:00:47.467666",
     "exception": false,
     "start_time": "2023-01-25T17:00:47.456366",
     "status": "completed"
    },
    "tags": []
   },
   "outputs": [],
   "source": []
  }
 ],
 "metadata": {
  "kernelspec": {
   "display_name": "Python 3",
   "language": "python",
   "name": "python3"
  },
  "language_info": {
   "codemirror_mode": {
    "name": "ipython",
    "version": 3
   },
   "file_extension": ".py",
   "mimetype": "text/x-python",
   "name": "python",
   "nbconvert_exporter": "python",
   "pygments_lexer": "ipython3",
   "version": "3.7.12"
  },
  "papermill": {
   "default_parameters": {},
   "duration": 1076.967461,
   "end_time": "2023-01-25T17:00:49.410882",
   "environment_variables": {},
   "exception": null,
   "input_path": "__notebook__.ipynb",
   "output_path": "__notebook__.ipynb",
   "parameters": {},
   "start_time": "2023-01-25T16:42:52.443421",
   "version": "2.3.4"
  },
  "widgets": {
   "application/vnd.jupyter.widget-state+json": {
    "state": {
     "031bcd17b5c544cebf1f5f9497eeac93": {
      "model_module": "@jupyter-widgets/base",
      "model_module_version": "1.2.0",
      "model_name": "LayoutModel",
      "state": {
       "_model_module": "@jupyter-widgets/base",
       "_model_module_version": "1.2.0",
       "_model_name": "LayoutModel",
       "_view_count": null,
       "_view_module": "@jupyter-widgets/base",
       "_view_module_version": "1.2.0",
       "_view_name": "LayoutView",
       "align_content": null,
       "align_items": null,
       "align_self": null,
       "border": null,
       "bottom": null,
       "display": null,
       "flex": null,
       "flex_flow": null,
       "grid_area": null,
       "grid_auto_columns": null,
       "grid_auto_flow": null,
       "grid_auto_rows": null,
       "grid_column": null,
       "grid_gap": null,
       "grid_row": null,
       "grid_template_areas": null,
       "grid_template_columns": null,
       "grid_template_rows": null,
       "height": null,
       "justify_content": null,
       "justify_items": null,
       "left": null,
       "margin": null,
       "max_height": null,
       "max_width": null,
       "min_height": null,
       "min_width": null,
       "object_fit": null,
       "object_position": null,
       "order": null,
       "overflow": null,
       "overflow_x": null,
       "overflow_y": null,
       "padding": null,
       "right": null,
       "top": null,
       "visibility": null,
       "width": null
      }
     },
     "08c427d71931415f99428d83ef595cd6": {
      "model_module": "@jupyter-widgets/controls",
      "model_module_version": "1.5.0",
      "model_name": "DescriptionStyleModel",
      "state": {
       "_model_module": "@jupyter-widgets/controls",
       "_model_module_version": "1.5.0",
       "_model_name": "DescriptionStyleModel",
       "_view_count": null,
       "_view_module": "@jupyter-widgets/base",
       "_view_module_version": "1.2.0",
       "_view_name": "StyleView",
       "description_width": ""
      }
     },
     "09a5e3f9c79248e8b81b1a87f587ca34": {
      "model_module": "@jupyter-widgets/controls",
      "model_module_version": "1.5.0",
      "model_name": "HTMLModel",
      "state": {
       "_dom_classes": [],
       "_model_module": "@jupyter-widgets/controls",
       "_model_module_version": "1.5.0",
       "_model_name": "HTMLModel",
       "_view_count": null,
       "_view_module": "@jupyter-widgets/controls",
       "_view_module_version": "1.5.0",
       "_view_name": "HTMLView",
       "description": "",
       "description_tooltip": null,
       "layout": "IPY_MODEL_751ebc7743e14d39b4880f50953d8f78",
       "placeholder": "​",
       "style": "IPY_MODEL_08c427d71931415f99428d83ef595cd6",
       "value": " 83.3M/83.3M [00:03&lt;00:00, 34.5MB/s]"
      }
     },
     "3547819d2c454c2897d4bce84505f3c7": {
      "model_module": "@jupyter-widgets/controls",
      "model_module_version": "1.5.0",
      "model_name": "HTMLModel",
      "state": {
       "_dom_classes": [],
       "_model_module": "@jupyter-widgets/controls",
       "_model_module_version": "1.5.0",
       "_model_name": "HTMLModel",
       "_view_count": null,
       "_view_module": "@jupyter-widgets/controls",
       "_view_module_version": "1.5.0",
       "_view_name": "HTMLView",
       "description": "",
       "description_tooltip": null,
       "layout": "IPY_MODEL_7cfafa914a5d452c9c2eef6be951d3c0",
       "placeholder": "​",
       "style": "IPY_MODEL_4848505b868a47188565c8af64f8bc23",
       "value": "100%"
      }
     },
     "4848505b868a47188565c8af64f8bc23": {
      "model_module": "@jupyter-widgets/controls",
      "model_module_version": "1.5.0",
      "model_name": "DescriptionStyleModel",
      "state": {
       "_model_module": "@jupyter-widgets/controls",
       "_model_module_version": "1.5.0",
       "_model_name": "DescriptionStyleModel",
       "_view_count": null,
       "_view_module": "@jupyter-widgets/base",
       "_view_module_version": "1.2.0",
       "_view_name": "StyleView",
       "description_width": ""
      }
     },
     "54231076c0874265912a8708067a90a9": {
      "model_module": "@jupyter-widgets/controls",
      "model_module_version": "1.5.0",
      "model_name": "HBoxModel",
      "state": {
       "_dom_classes": [],
       "_model_module": "@jupyter-widgets/controls",
       "_model_module_version": "1.5.0",
       "_model_name": "HBoxModel",
       "_view_count": null,
       "_view_module": "@jupyter-widgets/controls",
       "_view_module_version": "1.5.0",
       "_view_name": "HBoxView",
       "box_style": "",
       "children": [
        "IPY_MODEL_3547819d2c454c2897d4bce84505f3c7",
        "IPY_MODEL_f9f0870a6cc1428bbbe5a2dc595f5e7e",
        "IPY_MODEL_09a5e3f9c79248e8b81b1a87f587ca34"
       ],
       "layout": "IPY_MODEL_839428892e4f4ad5bff83f07807270ad"
      }
     },
     "72467af796e44f59971e1d02722031b9": {
      "model_module": "@jupyter-widgets/controls",
      "model_module_version": "1.5.0",
      "model_name": "ProgressStyleModel",
      "state": {
       "_model_module": "@jupyter-widgets/controls",
       "_model_module_version": "1.5.0",
       "_model_name": "ProgressStyleModel",
       "_view_count": null,
       "_view_module": "@jupyter-widgets/base",
       "_view_module_version": "1.2.0",
       "_view_name": "StyleView",
       "bar_color": null,
       "description_width": ""
      }
     },
     "751ebc7743e14d39b4880f50953d8f78": {
      "model_module": "@jupyter-widgets/base",
      "model_module_version": "1.2.0",
      "model_name": "LayoutModel",
      "state": {
       "_model_module": "@jupyter-widgets/base",
       "_model_module_version": "1.2.0",
       "_model_name": "LayoutModel",
       "_view_count": null,
       "_view_module": "@jupyter-widgets/base",
       "_view_module_version": "1.2.0",
       "_view_name": "LayoutView",
       "align_content": null,
       "align_items": null,
       "align_self": null,
       "border": null,
       "bottom": null,
       "display": null,
       "flex": null,
       "flex_flow": null,
       "grid_area": null,
       "grid_auto_columns": null,
       "grid_auto_flow": null,
       "grid_auto_rows": null,
       "grid_column": null,
       "grid_gap": null,
       "grid_row": null,
       "grid_template_areas": null,
       "grid_template_columns": null,
       "grid_template_rows": null,
       "height": null,
       "justify_content": null,
       "justify_items": null,
       "left": null,
       "margin": null,
       "max_height": null,
       "max_width": null,
       "min_height": null,
       "min_width": null,
       "object_fit": null,
       "object_position": null,
       "order": null,
       "overflow": null,
       "overflow_x": null,
       "overflow_y": null,
       "padding": null,
       "right": null,
       "top": null,
       "visibility": null,
       "width": null
      }
     },
     "7cfafa914a5d452c9c2eef6be951d3c0": {
      "model_module": "@jupyter-widgets/base",
      "model_module_version": "1.2.0",
      "model_name": "LayoutModel",
      "state": {
       "_model_module": "@jupyter-widgets/base",
       "_model_module_version": "1.2.0",
       "_model_name": "LayoutModel",
       "_view_count": null,
       "_view_module": "@jupyter-widgets/base",
       "_view_module_version": "1.2.0",
       "_view_name": "LayoutView",
       "align_content": null,
       "align_items": null,
       "align_self": null,
       "border": null,
       "bottom": null,
       "display": null,
       "flex": null,
       "flex_flow": null,
       "grid_area": null,
       "grid_auto_columns": null,
       "grid_auto_flow": null,
       "grid_auto_rows": null,
       "grid_column": null,
       "grid_gap": null,
       "grid_row": null,
       "grid_template_areas": null,
       "grid_template_columns": null,
       "grid_template_rows": null,
       "height": null,
       "justify_content": null,
       "justify_items": null,
       "left": null,
       "margin": null,
       "max_height": null,
       "max_width": null,
       "min_height": null,
       "min_width": null,
       "object_fit": null,
       "object_position": null,
       "order": null,
       "overflow": null,
       "overflow_x": null,
       "overflow_y": null,
       "padding": null,
       "right": null,
       "top": null,
       "visibility": null,
       "width": null
      }
     },
     "839428892e4f4ad5bff83f07807270ad": {
      "model_module": "@jupyter-widgets/base",
      "model_module_version": "1.2.0",
      "model_name": "LayoutModel",
      "state": {
       "_model_module": "@jupyter-widgets/base",
       "_model_module_version": "1.2.0",
       "_model_name": "LayoutModel",
       "_view_count": null,
       "_view_module": "@jupyter-widgets/base",
       "_view_module_version": "1.2.0",
       "_view_name": "LayoutView",
       "align_content": null,
       "align_items": null,
       "align_self": null,
       "border": null,
       "bottom": null,
       "display": null,
       "flex": null,
       "flex_flow": null,
       "grid_area": null,
       "grid_auto_columns": null,
       "grid_auto_flow": null,
       "grid_auto_rows": null,
       "grid_column": null,
       "grid_gap": null,
       "grid_row": null,
       "grid_template_areas": null,
       "grid_template_columns": null,
       "grid_template_rows": null,
       "height": null,
       "justify_content": null,
       "justify_items": null,
       "left": null,
       "margin": null,
       "max_height": null,
       "max_width": null,
       "min_height": null,
       "min_width": null,
       "object_fit": null,
       "object_position": null,
       "order": null,
       "overflow": null,
       "overflow_x": null,
       "overflow_y": null,
       "padding": null,
       "right": null,
       "top": null,
       "visibility": null,
       "width": null
      }
     },
     "f9f0870a6cc1428bbbe5a2dc595f5e7e": {
      "model_module": "@jupyter-widgets/controls",
      "model_module_version": "1.5.0",
      "model_name": "FloatProgressModel",
      "state": {
       "_dom_classes": [],
       "_model_module": "@jupyter-widgets/controls",
       "_model_module_version": "1.5.0",
       "_model_name": "FloatProgressModel",
       "_view_count": null,
       "_view_module": "@jupyter-widgets/controls",
       "_view_module_version": "1.5.0",
       "_view_name": "ProgressView",
       "bar_style": "success",
       "description": "",
       "description_tooltip": null,
       "layout": "IPY_MODEL_031bcd17b5c544cebf1f5f9497eeac93",
       "max": 87319819.0,
       "min": 0.0,
       "orientation": "horizontal",
       "style": "IPY_MODEL_72467af796e44f59971e1d02722031b9",
       "value": 87319819.0
      }
     }
    },
    "version_major": 2,
    "version_minor": 0
   }
  }
 },
 "nbformat": 4,
 "nbformat_minor": 5
}
