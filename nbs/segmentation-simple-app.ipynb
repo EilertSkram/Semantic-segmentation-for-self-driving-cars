{
 "cells": [
  {
   "cell_type": "code",
   "execution_count": 1,
   "id": "7feabd6f",
   "metadata": {
    "_cell_guid": "b1076dfc-b9ad-4769-8c92-a6c4dae69d19",
    "_uuid": "8f2839f25d086af736a60e9eeb907d3b93b6e0e5",
    "execution": {
     "iopub.execute_input": "2023-01-25T17:05:34.762744Z",
     "iopub.status.busy": "2023-01-25T17:05:34.761955Z",
     "iopub.status.idle": "2023-01-25T17:05:34.787002Z",
     "shell.execute_reply": "2023-01-25T17:05:34.786072Z"
    },
    "papermill": {
     "duration": 0.034785,
     "end_time": "2023-01-25T17:05:34.790168",
     "exception": false,
     "start_time": "2023-01-25T17:05:34.755383",
     "status": "completed"
    },
    "tags": []
   },
   "outputs": [
    {
     "name": "stdout",
     "output_type": "stream",
     "text": [
      "/kaggle/input/segmentation-model/__results__.html\n",
      "/kaggle/input/segmentation-model/__notebook__.ipynb\n",
      "/kaggle/input/segmentation-model/dashboard_segment.pkl\n",
      "/kaggle/input/segmentation-model/__output__.json\n",
      "/kaggle/input/segmentation-model/custom.css\n",
      "/kaggle/input/segmentation-model/__results___files/__results___7_2.png\n"
     ]
    }
   ],
   "source": [
    "# This Python 3 environment comes with many helpful analytics libraries installed\n",
    "# It is defined by the kaggle/python Docker image: https://github.com/kaggle/docker-python\n",
    "# For example, here's several helpful packages to load\n",
    "\n",
    "import numpy as np # linear algebra\n",
    "import pandas as pd # data processing, CSV file I/O (e.g. pd.read_csv)\n",
    "\n",
    "# Input data files are available in the read-only \"../input/\" directory\n",
    "# For example, running this (by clicking run or pressing Shift+Enter) will list all files under the input directory\n",
    "\n",
    "import os\n",
    "for dirname, _, filenames in os.walk('/kaggle/input'):\n",
    "    for filename in filenames:\n",
    "        print(os.path.join(dirname, filename))\n",
    "\n",
    "# You can write up to 20GB to the current directory (/kaggle/working/) that gets preserved as output when you create a version using \"Save & Run All\" \n",
    "# You can also write temporary files to /kaggle/temp/, but they won't be saved outside of the current session"
   ]
  },
  {
   "cell_type": "code",
   "execution_count": 2,
   "id": "a9482534",
   "metadata": {
    "execution": {
     "iopub.execute_input": "2023-01-25T17:05:34.798743Z",
     "iopub.status.busy": "2023-01-25T17:05:34.798252Z",
     "iopub.status.idle": "2023-01-25T17:06:04.927641Z",
     "shell.execute_reply": "2023-01-25T17:06:04.925911Z"
    },
    "papermill": {
     "duration": 30.137553,
     "end_time": "2023-01-25T17:06:04.931006",
     "exception": false,
     "start_time": "2023-01-25T17:05:34.793453",
     "status": "completed"
    },
    "tags": []
   },
   "outputs": [
    {
     "name": "stdout",
     "output_type": "stream",
     "text": [
      "Collecting gradio\r\n",
      "  Downloading gradio-3.16.2-py3-none-any.whl (14.2 MB)\r\n",
      "\u001b[2K     \u001b[90m━━━━━━━━━━━━━━━━━━━━━━━━━━━━━━━━━━━━━━━━\u001b[0m \u001b[32m14.2/14.2 MB\u001b[0m \u001b[31m31.7 MB/s\u001b[0m eta \u001b[36m0:00:00\u001b[0m\r\n",
      "\u001b[?25hRequirement already satisfied: pydub in /opt/conda/lib/python3.7/site-packages (from gradio) (0.25.1)\r\n",
      "Requirement already satisfied: aiohttp in /opt/conda/lib/python3.7/site-packages (from gradio) (3.8.1)\r\n",
      "Collecting ffmpy\r\n",
      "  Downloading ffmpy-0.3.0.tar.gz (4.8 kB)\r\n",
      "  Preparing metadata (setup.py) ... \u001b[?25l-\b \bdone\r\n",
      "\u001b[?25hRequirement already satisfied: uvicorn in /opt/conda/lib/python3.7/site-packages (from gradio) (0.20.0)\r\n",
      "Requirement already satisfied: pydantic in /opt/conda/lib/python3.7/site-packages (from gradio) (1.8.2)\r\n",
      "Collecting python-multipart\r\n",
      "  Downloading python-multipart-0.0.5.tar.gz (32 kB)\r\n",
      "  Preparing metadata (setup.py) ... \u001b[?25l-\b \bdone\r\n",
      "\u001b[?25hRequirement already satisfied: fastapi in /opt/conda/lib/python3.7/site-packages (from gradio) (0.89.1)\r\n",
      "Requirement already satisfied: pyyaml in /opt/conda/lib/python3.7/site-packages (from gradio) (6.0)\r\n",
      "Requirement already satisfied: jinja2 in /opt/conda/lib/python3.7/site-packages (from gradio) (3.1.2)\r\n",
      "Requirement already satisfied: typing-extensions in /opt/conda/lib/python3.7/site-packages (from gradio) (4.1.1)\r\n",
      "Requirement already satisfied: markdown-it-py[linkify,plugins] in /opt/conda/lib/python3.7/site-packages (from gradio) (2.1.0)\r\n",
      "Requirement already satisfied: matplotlib in /opt/conda/lib/python3.7/site-packages (from gradio) (3.5.2)\r\n",
      "Collecting httpx\r\n",
      "  Downloading httpx-0.23.3-py3-none-any.whl (71 kB)\r\n",
      "\u001b[2K     \u001b[90m━━━━━━━━━━━━━━━━━━━━━━━━━━━━━━━━━━━━━━━━\u001b[0m \u001b[32m71.5/71.5 kB\u001b[0m \u001b[31m6.1 MB/s\u001b[0m eta \u001b[36m0:00:00\u001b[0m\r\n",
      "\u001b[?25hRequirement already satisfied: orjson in /opt/conda/lib/python3.7/site-packages (from gradio) (3.7.5)\r\n",
      "Requirement already satisfied: fsspec in /opt/conda/lib/python3.7/site-packages (from gradio) (2023.1.0)\r\n",
      "Requirement already satisfied: altair>=4.2.0 in /opt/conda/lib/python3.7/site-packages (from gradio) (4.2.0)\r\n",
      "Requirement already satisfied: pandas in /opt/conda/lib/python3.7/site-packages (from gradio) (1.3.5)\r\n",
      "Requirement already satisfied: pillow in /opt/conda/lib/python3.7/site-packages (from gradio) (9.1.1)\r\n",
      "Requirement already satisfied: requests in /opt/conda/lib/python3.7/site-packages (from gradio) (2.28.1)\r\n",
      "Collecting aiofiles\r\n",
      "  Downloading aiofiles-22.1.0-py3-none-any.whl (14 kB)\r\n",
      "Requirement already satisfied: websockets>=10.0 in /opt/conda/lib/python3.7/site-packages (from gradio) (10.4)\r\n",
      "Collecting pycryptodome\r\n",
      "  Downloading pycryptodome-3.16.0-cp35-abi3-manylinux_2_5_x86_64.manylinux1_x86_64.manylinux_2_12_x86_64.manylinux2010_x86_64.whl (2.3 MB)\r\n",
      "\u001b[2K     \u001b[90m━━━━━━━━━━━━━━━━━━━━━━━━━━━━━━━━━━━━━━━━\u001b[0m \u001b[32m2.3/2.3 MB\u001b[0m \u001b[31m55.3 MB/s\u001b[0m eta \u001b[36m0:00:00\u001b[0m\r\n",
      "\u001b[?25hRequirement already satisfied: markupsafe in /opt/conda/lib/python3.7/site-packages (from gradio) (2.1.2)\r\n",
      "Requirement already satisfied: numpy in /opt/conda/lib/python3.7/site-packages (from gradio) (1.21.6)\r\n",
      "Requirement already satisfied: jsonschema>=3.0 in /opt/conda/lib/python3.7/site-packages (from altair>=4.2.0->gradio) (4.6.1)\r\n",
      "Requirement already satisfied: toolz in /opt/conda/lib/python3.7/site-packages (from altair>=4.2.0->gradio) (0.11.2)\r\n",
      "Requirement already satisfied: entrypoints in /opt/conda/lib/python3.7/site-packages (from altair>=4.2.0->gradio) (0.4)\r\n",
      "Requirement already satisfied: python-dateutil>=2.7.3 in /opt/conda/lib/python3.7/site-packages (from pandas->gradio) (2.8.2)\r\n",
      "Requirement already satisfied: pytz>=2017.3 in /opt/conda/lib/python3.7/site-packages (from pandas->gradio) (2022.1)\r\n",
      "Requirement already satisfied: yarl<2.0,>=1.0 in /opt/conda/lib/python3.7/site-packages (from aiohttp->gradio) (1.7.2)\r\n",
      "Requirement already satisfied: asynctest==0.13.0 in /opt/conda/lib/python3.7/site-packages (from aiohttp->gradio) (0.13.0)\r\n",
      "Requirement already satisfied: multidict<7.0,>=4.5 in /opt/conda/lib/python3.7/site-packages (from aiohttp->gradio) (6.0.2)\r\n",
      "Requirement already satisfied: attrs>=17.3.0 in /opt/conda/lib/python3.7/site-packages (from aiohttp->gradio) (21.4.0)\r\n",
      "Requirement already satisfied: charset-normalizer<3.0,>=2.0 in /opt/conda/lib/python3.7/site-packages (from aiohttp->gradio) (2.1.0)\r\n",
      "Requirement already satisfied: aiosignal>=1.1.2 in /opt/conda/lib/python3.7/site-packages (from aiohttp->gradio) (1.2.0)\r\n",
      "Requirement already satisfied: async-timeout<5.0,>=4.0.0a3 in /opt/conda/lib/python3.7/site-packages (from aiohttp->gradio) (4.0.2)\r\n",
      "Requirement already satisfied: frozenlist>=1.1.1 in /opt/conda/lib/python3.7/site-packages (from aiohttp->gradio) (1.3.0)\r\n",
      "Requirement already satisfied: starlette==0.22.0 in /opt/conda/lib/python3.7/site-packages (from fastapi->gradio) (0.22.0)\r\n",
      "Requirement already satisfied: anyio<5,>=3.4.0 in /opt/conda/lib/python3.7/site-packages (from starlette==0.22.0->fastapi->gradio) (3.6.1)\r\n",
      "Requirement already satisfied: sniffio in /opt/conda/lib/python3.7/site-packages (from httpx->gradio) (1.2.0)\r\n",
      "Requirement already satisfied: certifi in /opt/conda/lib/python3.7/site-packages (from httpx->gradio) (2022.12.7)\r\n",
      "Collecting httpcore<0.17.0,>=0.15.0\r\n",
      "  Downloading httpcore-0.16.3-py3-none-any.whl (69 kB)\r\n",
      "\u001b[2K     \u001b[90m━━━━━━━━━━━━━━━━━━━━━━━━━━━━━━━━━━━━━━━━\u001b[0m \u001b[32m69.6/69.6 kB\u001b[0m \u001b[31m5.7 MB/s\u001b[0m eta \u001b[36m0:00:00\u001b[0m\r\n",
      "\u001b[?25hCollecting rfc3986[idna2008]<2,>=1.3\r\n",
      "  Downloading rfc3986-1.5.0-py2.py3-none-any.whl (31 kB)\r\n",
      "Requirement already satisfied: mdurl~=0.1 in /opt/conda/lib/python3.7/site-packages (from markdown-it-py[linkify,plugins]->gradio) (0.1.0)\r\n",
      "Requirement already satisfied: mdit-py-plugins in /opt/conda/lib/python3.7/site-packages (from markdown-it-py[linkify,plugins]->gradio) (0.3.0)\r\n",
      "Collecting linkify-it-py~=1.0\r\n",
      "  Downloading linkify_it_py-1.0.3-py3-none-any.whl (19 kB)\r\n",
      "Requirement already satisfied: packaging>=20.0 in /opt/conda/lib/python3.7/site-packages (from matplotlib->gradio) (23.0)\r\n",
      "Requirement already satisfied: kiwisolver>=1.0.1 in /opt/conda/lib/python3.7/site-packages (from matplotlib->gradio) (1.4.3)\r\n",
      "Requirement already satisfied: fonttools>=4.22.0 in /opt/conda/lib/python3.7/site-packages (from matplotlib->gradio) (4.33.3)\r\n",
      "Requirement already satisfied: pyparsing>=2.2.1 in /opt/conda/lib/python3.7/site-packages (from matplotlib->gradio) (3.0.9)\r\n",
      "Requirement already satisfied: cycler>=0.10 in /opt/conda/lib/python3.7/site-packages (from matplotlib->gradio) (0.11.0)\r\n",
      "Requirement already satisfied: six>=1.4.0 in /opt/conda/lib/python3.7/site-packages (from python-multipart->gradio) (1.15.0)\r\n",
      "Requirement already satisfied: urllib3<1.27,>=1.21.1 in /opt/conda/lib/python3.7/site-packages (from requests->gradio) (1.26.14)\r\n",
      "Requirement already satisfied: idna<4,>=2.5 in /opt/conda/lib/python3.7/site-packages (from requests->gradio) (3.3)\r\n",
      "Requirement already satisfied: click>=7.0 in /opt/conda/lib/python3.7/site-packages (from uvicorn->gradio) (8.1.3)\r\n",
      "Requirement already satisfied: h11>=0.8 in /opt/conda/lib/python3.7/site-packages (from uvicorn->gradio) (0.14.0)\r\n",
      "Requirement already satisfied: importlib-metadata in /opt/conda/lib/python3.7/site-packages (from click>=7.0->uvicorn->gradio) (6.0.0)\r\n",
      "Requirement already satisfied: importlib-resources>=1.4.0 in /opt/conda/lib/python3.7/site-packages (from jsonschema>=3.0->altair>=4.2.0->gradio) (5.10.2)\r\n",
      "Requirement already satisfied: pyrsistent!=0.17.0,!=0.17.1,!=0.17.2,>=0.14.0 in /opt/conda/lib/python3.7/site-packages (from jsonschema>=3.0->altair>=4.2.0->gradio) (0.18.1)\r\n",
      "Collecting uc-micro-py\r\n",
      "  Downloading uc_micro_py-1.0.1-py3-none-any.whl (6.2 kB)\r\n",
      "Requirement already satisfied: zipp>=3.1.0 in /opt/conda/lib/python3.7/site-packages (from importlib-resources>=1.4.0->jsonschema>=3.0->altair>=4.2.0->gradio) (3.8.0)\r\n",
      "Building wheels for collected packages: ffmpy, python-multipart\r\n",
      "  Building wheel for ffmpy (setup.py) ... \u001b[?25l-\b \b\\\b \bdone\r\n",
      "\u001b[?25h  Created wheel for ffmpy: filename=ffmpy-0.3.0-py3-none-any.whl size=4712 sha256=46d0d7dfd1cea4d5fce9a660428255674ef57bb3568211063553b4e28067e825\r\n",
      "  Stored in directory: /root/.cache/pip/wheels/13/e4/6c/e8059816e86796a597c6e6b0d4c880630f51a1fcfa0befd5e6\r\n",
      "  Building wheel for python-multipart (setup.py) ... \u001b[?25l-\b \b\\\b \bdone\r\n",
      "\u001b[?25h  Created wheel for python-multipart: filename=python_multipart-0.0.5-py3-none-any.whl size=31678 sha256=e8f8f68a2f24bc03f7f2d2ee85bc90304bcf29de8ddc02bc31ba907c3bac5e27\r\n",
      "  Stored in directory: /root/.cache/pip/wheels/2c/41/7c/bfd1c180534ffdcc0972f78c5758f89881602175d48a8bcd2c\r\n",
      "Successfully built ffmpy python-multipart\r\n",
      "Installing collected packages: rfc3986, ffmpy, uc-micro-py, python-multipart, pycryptodome, aiofiles, linkify-it-py, httpcore, httpx, gradio\r\n",
      "Successfully installed aiofiles-22.1.0 ffmpy-0.3.0 gradio-3.16.2 httpcore-0.16.3 httpx-0.23.3 linkify-it-py-1.0.3 pycryptodome-3.16.0 python-multipart-0.0.5 rfc3986-1.5.0 uc-micro-py-1.0.1\r\n",
      "\u001b[33mWARNING: Running pip as the 'root' user can result in broken permissions and conflicting behaviour with the system package manager. It is recommended to use a virtual environment instead: https://pip.pypa.io/warnings/venv\u001b[0m\u001b[33m\r\n",
      "\u001b[0m"
     ]
    }
   ],
   "source": [
    "from fastai.vision.all import *\n",
    "!pip install gradio\n",
    "import gradio as gr\n"
   ]
  },
  {
   "cell_type": "code",
   "execution_count": 3,
   "id": "ceed0fc3",
   "metadata": {
    "execution": {
     "iopub.execute_input": "2023-01-25T17:06:04.946606Z",
     "iopub.status.busy": "2023-01-25T17:06:04.945744Z",
     "iopub.status.idle": "2023-01-25T17:06:04.953567Z",
     "shell.execute_reply": "2023-01-25T17:06:04.951970Z"
    },
    "papermill": {
     "duration": 0.018373,
     "end_time": "2023-01-25T17:06:04.956213",
     "exception": false,
     "start_time": "2023-01-25T17:06:04.937840",
     "status": "completed"
    },
    "tags": []
   },
   "outputs": [],
   "source": [
    "DATA = Path('/kaggle/input/')"
   ]
  },
  {
   "cell_type": "code",
   "execution_count": 4,
   "id": "12b684b6",
   "metadata": {
    "execution": {
     "iopub.execute_input": "2023-01-25T17:06:04.971465Z",
     "iopub.status.busy": "2023-01-25T17:06:04.970664Z",
     "iopub.status.idle": "2023-01-25T17:06:04.977266Z",
     "shell.execute_reply": "2023-01-25T17:06:04.975792Z"
    },
    "papermill": {
     "duration": 0.017761,
     "end_time": "2023-01-25T17:06:04.980497",
     "exception": false,
     "start_time": "2023-01-25T17:06:04.962736",
     "status": "completed"
    },
    "tags": []
   },
   "outputs": [],
   "source": [
    "def get_segmentation(fn): return path/'CameraSeg'/f'{fn.stem}{fn.suffix}'"
   ]
  },
  {
   "cell_type": "code",
   "execution_count": 5,
   "id": "02e2f3b6",
   "metadata": {
    "execution": {
     "iopub.execute_input": "2023-01-25T17:06:04.995545Z",
     "iopub.status.busy": "2023-01-25T17:06:04.995088Z",
     "iopub.status.idle": "2023-01-25T17:06:08.437372Z",
     "shell.execute_reply": "2023-01-25T17:06:08.435747Z"
    },
    "papermill": {
     "duration": 3.453491,
     "end_time": "2023-01-25T17:06:08.440505",
     "exception": false,
     "start_time": "2023-01-25T17:06:04.987014",
     "status": "completed"
    },
    "tags": []
   },
   "outputs": [],
   "source": [
    "learn = load_learner(DATA/'segmentation-model/dashboard_segment.pkl')"
   ]
  },
  {
   "cell_type": "code",
   "execution_count": 6,
   "id": "026a4dfb",
   "metadata": {
    "execution": {
     "iopub.execute_input": "2023-01-25T17:06:08.456213Z",
     "iopub.status.busy": "2023-01-25T17:06:08.455673Z",
     "iopub.status.idle": "2023-01-25T17:06:13.583021Z",
     "shell.execute_reply": "2023-01-25T17:06:13.581031Z"
    },
    "papermill": {
     "duration": 5.138953,
     "end_time": "2023-01-25T17:06:13.586124",
     "exception": false,
     "start_time": "2023-01-25T17:06:08.447171",
     "status": "completed"
    },
    "tags": []
   },
   "outputs": [
    {
     "name": "stdout",
     "output_type": "stream",
     "text": [
      "Running on local URL:  http://127.0.0.1:7860\n",
      "Running on public URL: https://e6be7e64-c4a3-437a.gradio.live\n",
      "\n",
      "This share link expires in 72 hours. For free permanent hosting and GPU upgrades (NEW!), check out Spaces: https://huggingface.co/spaces\n"
     ]
    },
    {
     "data": {
      "text/html": [
       "<div><iframe src=\"https://e6be7e64-c4a3-437a.gradio.live\" width=\"100%\" height=\"500\" allow=\"autoplay; camera; microphone; clipboard-read; clipboard-write;\" frameborder=\"0\" allowfullscreen></iframe></div>"
      ],
      "text/plain": [
       "<IPython.core.display.HTML object>"
      ]
     },
     "metadata": {},
     "output_type": "display_data"
    },
    {
     "data": {
      "text/plain": []
     },
     "execution_count": 6,
     "metadata": {},
     "output_type": "execute_result"
    }
   ],
   "source": [
    "def segment(image):\n",
    "    \n",
    "    pred = learn.predict(image)\n",
    "    pred_mask = pred[0]\n",
    "    plt.figure(figsize = (10,10))\n",
    "    plt.imshow(image)\n",
    "    plt.imshow(pred_mask, alpha=0.5)\n",
    "    plt.savefig('segmented.png')\n",
    "    return load_image('segmented.png')\n",
    "\n",
    "\n",
    "gr.Interface(fn=segment, inputs=\"image\", outputs=\"image\").launch(share=True)"
   ]
  },
  {
   "cell_type": "code",
   "execution_count": null,
   "id": "4ac976fe",
   "metadata": {
    "papermill": {
     "duration": 0.007381,
     "end_time": "2023-01-25T17:06:13.613464",
     "exception": false,
     "start_time": "2023-01-25T17:06:13.606083",
     "status": "completed"
    },
    "tags": []
   },
   "outputs": [],
   "source": []
  }
 ],
 "metadata": {
  "kernelspec": {
   "display_name": "Python 3",
   "language": "python",
   "name": "python3"
  },
  "language_info": {
   "codemirror_mode": {
    "name": "ipython",
    "version": 3
   },
   "file_extension": ".py",
   "mimetype": "text/x-python",
   "name": "python",
   "nbconvert_exporter": "python",
   "pygments_lexer": "ipython3",
   "version": "3.7.12"
  },
  "papermill": {
   "default_parameters": {},
   "duration": 51.292355,
   "end_time": "2023-01-25T17:06:16.244328",
   "environment_variables": {},
   "exception": null,
   "input_path": "__notebook__.ipynb",
   "output_path": "__notebook__.ipynb",
   "parameters": {},
   "start_time": "2023-01-25T17:05:24.951973",
   "version": "2.3.4"
  }
 },
 "nbformat": 4,
 "nbformat_minor": 5
}
